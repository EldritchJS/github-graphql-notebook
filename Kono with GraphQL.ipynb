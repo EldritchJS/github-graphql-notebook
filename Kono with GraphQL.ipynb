{
 "cells": [
  {
   "cell_type": "markdown",
   "metadata": {
    "extensions": {
     "jupyter_dashboards": {
      "version": 1,
      "views": {
       "grid_default": {
        "col": 0,
        "height": 4,
        "hidden": false,
        "row": 0,
        "width": 4
       },
       "report_default": {
        "hidden": false
       }
      }
     }
    }
   },
   "source": [
    "## Github Repo Metrics Using GraphQL API ##"
   ]
  },
  {
   "cell_type": "code",
   "execution_count": 70,
   "metadata": {
    "extensions": {
     "jupyter_dashboards": {
      "version": 1,
      "views": {
       "grid_default": {
        "hidden": true
       },
       "report_default": {
        "hidden": true
       }
      }
     }
    }
   },
   "outputs": [],
   "source": [
    "%matplotlib inline\n",
    "\n",
    "import requests\n",
    "import json\n",
    "import pandas as pd\n",
    "import numpy as np\n",
    "import matplotlib.pyplot as plt\n",
    "import ipywidgets as widgets\n",
    "import datetime as dt\n",
    "from IPython.display import display\n",
    "import numpy as np\n",
    "import seaborn as sns\n",
    "from vaderSentiment.vaderSentiment import SentimentIntensityAnalyzer\n",
    "from string import Template\n",
    "from matplotlib.ticker import MaxNLocator"
   ]
  },
  {
   "cell_type": "code",
   "execution_count": 71,
   "metadata": {
    "extensions": {
     "jupyter_dashboards": {
      "version": 1,
      "views": {
       "grid_default": {
        "hidden": true
       },
       "report_default": {
        "hidden": true
       }
      }
     }
    }
   },
   "outputs": [],
   "source": [
    "analyzer = SentimentIntensityAnalyzer()\n",
    "\n",
    "ownerQuery = Template(''' \n",
    "{ \n",
    "    repositoryOwner(login : \\\"$owner\\\") {\n",
    "        login repositories (first : 100) {\n",
    "            edges {\n",
    "                node {\n",
    "                    name\n",
    "                    diskUsage\n",
    "                    forkCount \n",
    "                }\n",
    "            }\n",
    "            totalCount\n",
    "        } \n",
    "    } \n",
    "} \n",
    "''')\n",
    "\n",
    "repoQuery = Template(''' \n",
    "{ \n",
    "    repository(owner: \\\"$owner\\\", name: \\\"$repo\\\") { \n",
    "        forkCount\n",
    "        watchers(first: 10) {\n",
    "            totalCount\n",
    "        }\n",
    "        stargazers(first: 10) {\n",
    "            totalCount\n",
    "        }\n",
    "        \n",
    "        commitComments(first: 10) {\n",
    "            edges {\n",
    "                node {\n",
    "                    bodyText\n",
    "                    reactions(first: 10) {\n",
    "                        edges {\n",
    "                            node {\n",
    "                                content\n",
    "                            }\n",
    "                        }\n",
    "                    }\n",
    "                }\n",
    "            }\n",
    "        }\n",
    "        pullRequests(first: 10) { \n",
    "            totalCount\n",
    "            edges { \n",
    "                node { \n",
    "                    createdAt\n",
    "                    closedAt\n",
    "                    closed\n",
    "                    merged\n",
    "                    mergedAt\n",
    "                    comments(first: 10) {\n",
    "                        edges {\n",
    "                            node {\n",
    "                                bodyText\n",
    "                            }\n",
    "                        }\n",
    "                    } \n",
    "                } \n",
    "            } \n",
    "        } \n",
    "        issues(first: 10) {\n",
    "            totalCount\n",
    "            edges {\n",
    "                node {\n",
    "                    createdAt\n",
    "                    closedAt\n",
    "                    closed\n",
    "                }\n",
    "            }\n",
    "        }\n",
    "    }\n",
    "}\n",
    "''')\n"
   ]
  },
  {
   "cell_type": "code",
   "execution_count": 72,
   "metadata": {
    "extensions": {
     "jupyter_dashboards": {
      "version": 1,
      "views": {
       "grid_default": {
        "hidden": true
       },
       "report_default": {
        "hidden": true
       }
      }
     }
    }
   },
   "outputs": [],
   "source": [
    "def getSentimentAPI(phrase):\n",
    "    endpointSentAPI = 'http://text-processing.com/api/sentiment/'    \n",
    "    r = requests.post(endpointSentAPI, {\"text\": phrase})\n",
    "    return r.json()\n",
    "\n",
    "def acquireOwnerRepos(ownerName, token):\n",
    "    endpointGitHub = 'https://api.github.com/graphql'\n",
    "    headersGitHub = {'Authorization': 'bearer ' + token}\n",
    "    query = ownerQuery.substitute(owner=ownerName)\n",
    "    r = requests.post(endpointGitHub, json.dumps({\"query\": query}), headers=headersGitHub)\n",
    "    data = r.json()['data']['repositoryOwner']['repositories']['edges']\n",
    "    repos = []\n",
    "    for repo in data:\n",
    "        repos.append(repo['node']['name'])\n",
    "    return repos\n",
    "\n",
    "def computeVaderSentiment(data):\n",
    "    prData = data['pullRequests']['edges']\n",
    "\n",
    "    neg = 0\n",
    "    pos = 0\n",
    "    neu = 0\n",
    "    numMessages = 0\n",
    "    \n",
    "    for node in prData:\n",
    "        edges = node['node']['comments']['edges']\n",
    "        for cnode in edges:\n",
    "            phrase = cnode['node']['bodyText']\n",
    "            numMessages+=1\n",
    "            vaderScores = analyzer.polarity_scores(phrase)\n",
    "            neg += vaderScores['neg']\n",
    "            pos += vaderScores['pos']\n",
    "            neu += vaderScores['neu']\n",
    "            \n",
    "    if(numMessages > 0):\n",
    "        neg = neg/numMessages\n",
    "        pos = pos/numMessages\n",
    "        neu = neu/numMessages\n",
    "        total = neg + pos + neu\n",
    "        neg = neg*100.0/total\n",
    "        neu = neu*100.0/total\n",
    "        pos = pos*100.0/total          \n",
    "    return neg, neu, pos\n",
    "\n",
    "def parseGitHubUTCTimeStamp(ts):\n",
    "    return dt.datetime.strptime(ts, '%Y-%m-%dT%H:%M:%SZ')\n",
    "\n",
    "def determineResolutionTime(opened, closed):\n",
    "    td = closed - opened\n",
    "    return abs(td.days)\n",
    "\n",
    "def computePRResponseTimes(repoData):\n",
    "    prData = repoData['pullRequests']['edges']\n",
    "    prTimes = []\n",
    "    for node in prData:\n",
    "        if node['node']['closed'] == True:\n",
    "            turnaround = determineResolutionTime(parseGitHubUTCTimeStamp(node['node']['closedAt']),parseGitHubUTCTimeStamp(node['node']['createdAt']))\n",
    "            prTimes.append(turnaround)\n",
    "    return prTimes\n",
    "    \n",
    "def acquireRepoData(ownerName, repoName, token):\n",
    "    endpointGitHub = 'https://api.github.com/graphql'\n",
    "    headersGitHub = {'Authorization': 'bearer ' + token}\n",
    "    \n",
    "    query = repoQuery.substitute(owner=ownerName,repo=repoName)\n",
    "    r = requests.post(endpointGitHub, json.dumps({\"query\": query}), headers=headersGitHub)\n",
    "    return r.json()['data']['repository']\n"
   ]
  },
  {
   "cell_type": "code",
   "execution_count": 73,
   "metadata": {
    "extensions": {
     "jupyter_dashboards": {
      "version": 1,
      "views": {
       "grid_default": {
        "hidden": true
       },
       "report_default": {
        "hidden": true
       }
      }
     }
    }
   },
   "outputs": [],
   "source": [
    "repo_data = acquireRepoData('eldritchjs', 'equoid-data-handler', 'Insert Token Here')\n",
    "sentiments = computeVaderSentiment(repo_data)"
   ]
  },
  {
   "cell_type": "code",
   "execution_count": 74,
   "metadata": {
    "extensions": {
     "jupyter_dashboards": {
      "version": 1,
      "views": {
       "grid_default": {
        "col": 0,
        "height": 9,
        "hidden": false,
        "row": 4,
        "width": 4
       },
       "report_default": {
        "hidden": false
       }
      }
     }
    }
   },
   "outputs": [
    {
     "data": {
      "image/png": "[encoded data removed]",
      "text/plain": [
       "<Figure size 432x288 with 1 Axes>"
      ]
     },
     "metadata": {},
     "output_type": "display_data"
    }
   ],
   "source": [
    "ind = np.arange(1, 4)\n",
    "\n",
    "pneg, pneu, ppos = plt.bar(ind, sentiments)\n",
    "pneg.set_facecolor('r')\n",
    "pneu.set_facecolor('y')\n",
    "ppos.set_facecolor('g')\n",
    "plt.xticks(ind,['Negative', 'Neutral', 'Positive'])\n",
    "plt.ylim([0, 100])\n",
    "plt.ylabel('Percent')\n",
    "plt.title('Pull Request Comment Sentiments')\n",
    "plt.show()"
   ]
  },
  {
   "cell_type": "code",
   "execution_count": 105,
   "metadata": {
    "extensions": {
     "jupyter_dashboards": {
      "version": 1,
      "views": {
       "grid_default": {
        "col": 4,
        "height": 13,
        "hidden": false,
        "row": 0,
        "width": 6
       },
       "report_default": {
        "hidden": false
       }
      }
     }
    }
   },
   "outputs": [
    {
     "data": {
      "image/png": "[encoded data removed]",
      "text/plain": [
       "<Figure size 432x288 with 1 Axes>"
      ]
     },
     "metadata": {},
     "output_type": "display_data"
    }
   ],
   "source": [
    "prTimes = computePRResponseTimes(repo_data)\n",
    "openedPRs = repo_data['pullRequests']['totalCount']\n",
    "plt.hist(prTimes, color = 'red')\n",
    "titleStr=('Pull Request Time to Close: (' + str(openedPRs) + ' opened, ' + str(len(foo)) + ' closed)')\n",
    "axes = plt.gca()\n",
    "axes.set(ylabel=\"\",xlabel=\"Days\")\n",
    "plt.title(titleStr)\n",
    "axes.yaxis.set_major_locator(MaxNLocator(integer=True))\n"
   ]
  },
  {
   "cell_type": "code",
   "execution_count": null,
   "metadata": {
    "extensions": {
     "jupyter_dashboards": {
      "version": 1,
      "views": {
       "grid_default": {
        "hidden": true
       },
       "report_default": {
        "hidden": true
       }
      }
     }
    }
   },
   "outputs": [],
   "source": [
    "import dash\n",
    "import dash_core_components as dcc\n",
    "import dash_html_components as html\n",
    "import plotly.graph_objs as go\n",
    "import pandas as pd\n",
    "from dash.dependencies import Input, Output"
   ]
  },
  {
   "cell_type": "code",
   "execution_count": null,
   "metadata": {
    "extensions": {
     "jupyter_dashboards": {
      "version": 1,
      "views": {
       "grid_default": {
        "hidden": true
       },
       "report_default": {
        "hidden": true
       }
      }
     }
    }
   },
   "outputs": [],
   "source": [
    "app = dash.Dash()\n",
    "\n",
    "#app.layout = html.Div([\n",
    "#    html.Div()\n",
    "#    dcc.Input(id='owner-id', value='Enter owner name', type='text'),\n",
    "#    dcc.Input(id='repo-id', value='Enter repo name', type='text'),\n",
    "#    dcc.Input(id='token-id', value='Enter Github API token', type='text'),\n",
    "#    html.Div(id='input-div')\n",
    "#])\n",
    "repo_name = ''\n",
    "user_name = ''\n",
    "\n",
    "app.layout = html.Div([\n",
    "    html.Div([\n",
    "\n",
    "        html.Div([\n",
    "            dcc.Input(id='owner-id', value='Enter Github user name', type='text'),\n",
    "            dcc.Dropdown(\n",
    "                id='repolist-dropdown'\n",
    "            )\n",
    "        ],\n",
    "        style={'width': '48%', 'display': 'inline-block'}),\n",
    "    ]),\n",
    "\n",
    "    dcc.Graph(id='sentiment-graphic')\n",
    "])\n",
    "\n",
    "@app.callback(\n",
    "    dash.dependencies.Output('repolist-dropdown', 'options'),\n",
    "    [dash.dependencies.Input('owner-id', 'value')])\n",
    "def update_repo_dropdown(owner_name):\n",
    "    user_name = owner_name\n",
    "    repos = acquireOwnerRepos(owner_name, '5b151dd275afed8d9e51f4fb063b4aa36305c346')\n",
    "    return[{'label': i, 'value': i} for i in repos]\n",
    "\n",
    "@app.callback(\n",
    "    dash.dependencies.Output('sentiment-graphic', 'figure'),\n",
    "    [dash.dependencies.Input('repolist-dropdown', 'value')])\n",
    "def update_sentiment_graph(repo_selected):\n",
    "    repo_name = repo_selected\n",
    "    print('username: ' + user_name)\n",
    "    print(' reponame: ' + repo_name)\n",
    "    repo_data = acquireRepoData('eldritchjs', 'equoid-data-handler', 'Insert Token Here')\n",
    "    sentiments = computeVaderSentiment(repo_data)\n",
    "    indices = ('Neg', 'Neu', 'Pos')\n",
    "    return {\n",
    "        'data': [go.Bar(\n",
    "            x=indices,\n",
    "            y=sentiments\n",
    "        )],\n",
    "        'layout': go.Layout(\n",
    "            xaxis={\n",
    "                'title': 'PR Comment Sentiment for ',\n",
    "                'type': 'linear'\n",
    "            },\n",
    "            yaxis={\n",
    "                'title': 'Percentage',\n",
    "                'type': 'linear'\n",
    "            }\n",
    "        )\n",
    "    }\n",
    "\n",
    "app.run_server(debug=False)\n"
   ]
  },
  {
   "cell_type": "code",
   "execution_count": null,
   "metadata": {
    "extensions": {
     "jupyter_dashboards": {
      "version": 1,
      "views": {
       "grid_default": {
        "hidden": true
       },
       "report_default": {
        "hidden": true
       }
      }
     }
    }
   },
   "outputs": [],
   "source": [
    "from IPython import display\n",
    "def show_app(app,  # type: dash.Dash\n",
    "             port=8051,\n",
    "             width=960,\n",
    "             height=720,\n",
    "             offline=True,\n",
    "             style=True,\n",
    "             **dash_flask_kwargs):\n",
    "    \"\"\"\n",
    "    Run the application inside a Jupyter notebook and show an iframe with it\n",
    "    :param app:\n",
    "    :param port:\n",
    "    :param width:\n",
    "    :param height:\n",
    "    :param offline:\n",
    "    :return:\n",
    "    \"\"\"\n",
    "    url = 'http://localhost:%d' % port\n",
    "    iframe = '<iframe src=\"{url}\" width={width} height={height}></iframe>'.format(url=url,\n",
    "                                                                                  width=width,\n",
    "                                                                                  height=height)\n",
    "    display.display_html(iframe, raw=True)\n",
    "    if offline:\n",
    "        app.css.config.serve_locally = True\n",
    "        app.scripts.config.serve_locally = True\n",
    "    if style:\n",
    "        external_css = [\"https://fonts.googleapis.com/css?family=Raleway:400,300,600\",\n",
    "                        \"https://maxcdn.bootstrapcdn.com/font-awesome/4.7.0/css/font-awesome.min.css\",\n",
    "                        \"http://getbootstrap.com/dist/css/bootstrap.min.css\", ]\n",
    "\n",
    "        for css in external_css:\n",
    "            app.css.append_css({\"external_url\": css})\n",
    "\n",
    "        external_js = [\"https://code.jquery.com/jquery-3.2.1.min.js\",\n",
    "                       \"https://cdn.rawgit.com/plotly/dash-app-stylesheets/a3401de132a6d0b652ba11548736b1d1e80aa10d/dash-goldman-sachs-report-js.js\",\n",
    "                       \"http://getbootstrap.com/dist/js/bootstrap.min.js\"]\n",
    "\n",
    "        for js in external_js:\n",
    "            app.scripts.append_script({\"external_url\": js})\n",
    "\n",
    "    return app.run_server(debug=False,  # needs to be false in Jupyter\n",
    "                          port=port,\n",
    "                          **dash_flask_kwargs)"
   ]
  },
  {
   "cell_type": "code",
   "execution_count": null,
   "metadata": {
    "extensions": {
     "jupyter_dashboards": {
      "version": 1,
      "views": {
       "grid_default": {
        "hidden": true
       },
       "report_default": {
        "hidden": true
       }
      }
     }
    }
   },
   "outputs": [],
   "source": [
    "show_app(app)"
   ]
  },
  {
   "cell_type": "code",
   "execution_count": null,
   "metadata": {
    "extensions": {
     "jupyter_dashboards": {
      "version": 1,
      "views": {
       "grid_default": {
        "hidden": true
       },
       "report_default": {
        "hidden": true
       }
      }
     }
    }
   },
   "outputs": [],
   "source": []
  }
 ],
 "metadata": {
  "extensions": {
   "jupyter_dashboards": {
    "activeView": "report_default",
    "version": 1,
    "views": {
     "grid_default": {
      "cellMargin": 10,
      "defaultCellHeight": 20,
      "maxColumns": 12,
      "name": "grid",
      "type": "grid"
     },
     "report_default": {
      "name": "report",
      "type": "report"
     }
    }
   }
  },
  "kernelspec": {
   "display_name": "Python 3",
   "language": "python",
   "name": "python3"
  },
  "language_info": {
   "codemirror_mode": {
    "name": "ipython",
    "version": 3
   },
   "file_extension": ".py",
   "mimetype": "text/x-python",
   "name": "python",
   "nbconvert_exporter": "python",
   "pygments_lexer": "ipython3",
   "version": "3.6.5"
  }
 },
 "nbformat": 4,
 "nbformat_minor": 2
}
