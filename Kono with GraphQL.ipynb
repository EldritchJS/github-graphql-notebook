{
 "cells": [
  {
   "cell_type": "markdown",
   "metadata": {
    "extensions": {
     "jupyter_dashboards": {
      "version": 1,
      "views": {
       "grid_default": {
        "col": 0,
        "height": 4,
        "hidden": false,
        "row": 0,
        "width": 4
       },
       "report_default": {}
      }
     }
    }
   },
   "source": [
    "## Github Repo Metrics Using GraphQL API ##"
   ]
  },
  {
   "cell_type": "markdown",
   "metadata": {
    "extensions": {
     "jupyter_dashboards": {
      "version": 1,
      "views": {
       "grid_default": {
        "col": 0,
        "height": 4,
        "hidden": false,
        "row": 4,
        "width": 12
       },
       "report_default": {}
      }
     }
    }
   },
   "source": [
    "text-processing.com provides a Sentiment Analysis API which has commercial licensing. \n",
    "\n",
    "It checks for neutrality first, ends if so, otherwise checks pos/neg\n",
    "\n",
    "Vader is built on NLTK, open source, and worked previously for kono."
   ]
  },
  {
   "cell_type": "code",
   "execution_count": 16,
   "metadata": {
    "extensions": {
     "jupyter_dashboards": {
      "version": 1,
      "views": {
       "grid_default": {
        "hidden": true
       },
       "report_default": {}
      }
     }
    }
   },
   "outputs": [],
   "source": [
    "import requests\n",
    "import json\n",
    "from vaderSentiment.vaderSentiment import SentimentIntensityAnalyzer\n",
    "import pandas as pd\n",
    "from string import Template\n",
    "\n",
    "endpointSentAPI = 'http://text-processing.com/api/sentiment/'\n",
    "endpointGitHub = 'https://api.github.com/graphql'\n",
    "headersGitHub = {'Authorization': '<ADD YOUR TOKEN HERE>'}\n",
    "\n",
    "def getSentimentAPI(phrase):\n",
    "    r = requests.post(endpointSentAPI, {\"text\": phrase})\n",
    "    return r.json()\n"
   ]
  },
  {
   "cell_type": "code",
   "execution_count": 17,
   "metadata": {
    "extensions": {
     "jupyter_dashboards": {
      "version": 1,
      "views": {
       "grid_default": {
        "hidden": true
       },
       "report_default": {}
      }
     }
    }
   },
   "outputs": [],
   "source": [
    "analyzer = SentimentIntensityAnalyzer()\n",
    "\n",
    "repoQuery = Template(''' \n",
    "{ \n",
    "    repository(owner: \\\"$owner\\\", name: \\\"$repo\\\") { \n",
    "        forkCount\n",
    "        watchers(first: 10) {\n",
    "            totalCount\n",
    "        }\n",
    "        stargazers(first: 10) {\n",
    "            totalCount\n",
    "        }\n",
    "        \n",
    "        commitComments(first: 10) {\n",
    "            edges {\n",
    "                node {\n",
    "                    bodyText\n",
    "                    reactions(first: 10) {\n",
    "                        edges {\n",
    "                            node {\n",
    "                                content\n",
    "                            }\n",
    "                        }\n",
    "                    }\n",
    "                }\n",
    "            }\n",
    "        }\n",
    "        pullRequests(first: 10) { \n",
    "            totalCount\n",
    "            edges { \n",
    "                node { \n",
    "                    createdAt\n",
    "                    closedAt\n",
    "                    closed\n",
    "                    merged\n",
    "                    mergedAt\n",
    "                    comments(first: 10) {\n",
    "                        edges {\n",
    "                            node {\n",
    "                                bodyText\n",
    "                            }\n",
    "                        }\n",
    "                    } \n",
    "                } \n",
    "            } \n",
    "        } \n",
    "        issues(first: 10) {\n",
    "            totalCount\n",
    "            edges {\n",
    "                node {\n",
    "                    createdAt\n",
    "                    closedAt\n",
    "                    closed\n",
    "                }\n",
    "            }\n",
    "        }\n",
    "    }\n",
    "}\n",
    "''')\n",
    "\n",
    "\n"
   ]
  },
  {
   "cell_type": "code",
   "execution_count": 31,
   "metadata": {
    "extensions": {
     "jupyter_dashboards": {
      "version": 1,
      "views": {
       "grid_default": {
        "hidden": true
       },
       "report_default": {}
      }
     }
    }
   },
   "outputs": [],
   "source": [
    "%matplotlib inline\n",
    "\n",
    "def acquireRepoData(ownerName, repoName, token):\n",
    "    headersGitHub = {'Authorization': 'bearer ' + token}\n",
    "    \n",
    "    query = repoQuery.substitute(owner=ownerName,repo=repoName)\n",
    "    r = requests.post(endpointGitHub, json.dumps({\"query\": query}), headers=headersGitHub)\n",
    "    data = r.json()['data']['repository']\n",
    "    repo = data['pullRequests']['edges']\n",
    "\n",
    "    vaderNeg = 0\n",
    "    vaderPos = 0\n",
    "    vaderNeu = 0\n",
    "    tpcNeg = 0\n",
    "    tpcPos = 0\n",
    "    tpcNeu = 0\n",
    "    numMessages = 0\n",
    "    \n",
    "    for node in repo:\n",
    "        edges = node['node']['comments']['edges']\n",
    "        for cnode in edges:\n",
    "            phrase = cnode['node']['bodyText']\n",
    "            numMessages+=1\n",
    "            vaderScores = analyzer.polarity_scores(phrase)\n",
    "            tpcScores = getSentimentAPI(phrase)\n",
    "\n",
    "            tpcNeg += tpcScores['probability']['neg']\n",
    "            tpcPos += tpcScores['probability']['pos']\n",
    "            tpcNeu += tpcScores['probability']['neutral']\n",
    "            vaderNeg += vaderScores['neg']\n",
    "            vaderPos += vaderScores['pos']\n",
    "            vaderNeu += vaderScores['neu']\n",
    "            \n",
    "    if(numMessages > 0):\n",
    "        vaderNeg = vaderNeg/numMessages\n",
    "        vaderPos = vaderPos/numMessages\n",
    "        vaderNeu = vaderNeu/numMessages\n",
    "        vaderTotal = vaderNeg + vaderPos + vaderNeu\n",
    "        vaderNeg = vaderNeg*100/vaderTotal\n",
    "        vaderNeu = vaderNeu*100/vaderTotal\n",
    "        vaderPos = vaderPos*100/vaderTotal\n",
    "            \n",
    "        tpcNeg = tpcNeg/numMessages\n",
    "        tpcPos = tpcPos/numMessages\n",
    "        tpcNeu = tpcNeu/numMessages\n",
    "        tpcTotal = tpcNeg + tpcPos + tpcNeu\n",
    "        tpcNeg = tpcNeg*100/tpcTotal\n",
    "        tpcNeu = tpcNeu*100/tpcTotal\n",
    "        tpcPos = tpcPos*100/tpcTotal\n",
    "    \n",
    "    print('Vader - Negative: ' + \"%8.2f\" % vaderNeg + \\\n",
    "          ' Neutral: ' + \"%8.2f\" % vaderNeu + ' Positive: ' + \"%8.2f\" % vaderPos)    \n",
    "    print('T-p.c - Negative: ' + \"%8.2f\" % tpcNeg + \\\n",
    "          ' Neutral: ' + \"%8.2f\" % tpcNeu + ' Positive: ' + \"%8.2f\" % tpcPos)\n",
    "    \n",
    "    return [(vaderNeg, tpcNeg),(vaderNeu,tpcNeu),(vaderPos,tpcPos)]"
   ]
  },
  {
   "cell_type": "code",
   "execution_count": 32,
   "metadata": {
    "extensions": {
     "jupyter_dashboards": {
      "version": 1,
      "views": {
       "grid_default": {
        "col": 0,
        "height": 12,
        "hidden": false,
        "row": 8,
        "width": 4
       },
       "report_default": {}
      }
     }
    }
   },
   "outputs": [
    {
     "data": {
      "application/vnd.jupyter.widget-view+json": {
       "model_id": "eb24eb7c37304935a02e756942be503a",
       "version_major": 2,
       "version_minor": 0
      },
      "text/plain": [
       "Text(value='Enter owner name')"
      ]
     },
     "metadata": {},
     "output_type": "display_data"
    },
    {
     "data": {
      "application/vnd.jupyter.widget-view+json": {
       "model_id": "fe61f2013f464894a7769deac3ed7011",
       "version_major": 2,
       "version_minor": 0
      },
      "text/plain": [
       "Text(value='Enter repo name')"
      ]
     },
     "metadata": {},
     "output_type": "display_data"
    },
    {
     "data": {
      "application/vnd.jupyter.widget-view+json": {
       "model_id": "853f63f3ae05473188b9f8af3bc83dab",
       "version_major": 2,
       "version_minor": 0
      },
      "text/plain": [
       "Text(value='Insert Token')"
      ]
     },
     "metadata": {},
     "output_type": "display_data"
    },
    {
     "data": {
      "application/vnd.jupyter.widget-view+json": {
       "model_id": "b5c347df2eac45b9bbe5d5859630db25",
       "version_major": 2,
       "version_minor": 0
      },
      "text/plain": [
       "Button(description='Start', style=ButtonStyle())"
      ]
     },
     "metadata": {},
     "output_type": "display_data"
    },
    {
     "name": "stdout",
     "output_type": "stream",
     "text": [
      "Vader - Negative:     8.80 Neutral:    84.84 Positive:     6.35\n",
      "T-p.c - Negative:    59.17 Neutral:    15.78 Positive:    25.05\n"
     ]
    },
    {
     "data": {
      "image/png": "[encoded data removed]",
      "text/plain": [
       "<Figure size 432x288 with 1 Axes>"
      ]
     },
     "metadata": {},
     "output_type": "display_data"
    },
    {
     "name": "stdout",
     "output_type": "stream",
     "text": [
      "Vader - Negative:     8.80 Neutral:    84.84 Positive:     6.35\n",
      "T-p.c - Negative:    59.17 Neutral:    15.78 Positive:    25.05\n"
     ]
    },
    {
     "data": {
      "image/png": "[encoded data removed]",
      "text/plain": [
       "<Figure size 432x288 with 1 Axes>"
      ]
     },
     "metadata": {},
     "output_type": "display_data"
    }
   ],
   "source": [
    "import numpy as np\n",
    "import matplotlib.pyplot as plt\n",
    "\n",
    "def makePlot(values): \n",
    "    ind = np.arange(2)\n",
    "    pos = []\n",
    "    vals = np.array(values)\n",
    "    p1 = plt.bar(ind, vals[0])\n",
    "    p2 = plt.bar(ind, vals[1], bottom=vals[0])\n",
    "    p3 = plt.bar(ind, vals[2], bottom=vals[0]+vals[1])\n",
    "\n",
    "    plt.ylabel('Percentage')\n",
    "    plt.title('Pull Request Sentiment')\n",
    "    plt.xticks(ind, ('Vader', 'Tpc'))\n",
    "    plt.legend((p1[0], p2[0],p3[0]), ('Neg', 'Neu', 'Pos'))\n",
    "\n",
    "    plt.show()\n",
    "\n",
    "import ipywidgets as widgets\n",
    "ownerVal = 'Enter owner name'\n",
    "repoVal = 'Enter repo name'\n",
    "tokenVal = 'Insert Token'\n",
    "\n",
    "ownerW = widgets.Text(value=ownerVal)\n",
    "repoW = widgets.Text(value=repoVal)\n",
    "tokenW = widgets.Text(value=tokenVal)\n",
    "startB = widgets.Button(description='Start')\n",
    "display(ownerW, repoW, tokenW, startB)\n",
    "\n",
    "\n",
    "def on_button_clicked(b):\n",
    "    ownerVal = ownerW.value\n",
    "    repoVal = repoW.value\n",
    "    tokenVal = tokenW.value\n",
    "    if (ownerVal != '' and repoVal != '' and tokenVal != ''):\n",
    "        result = acquireRepoData(ownerVal, repoVal, tokenVal)\n",
    "        makePlot(result)\n",
    "        \n",
    "    \n",
    "startB.on_click(on_button_clicked)"
   ]
  },
  {
   "cell_type": "code",
   "execution_count": null,
   "metadata": {
    "extensions": {
     "jupyter_dashboards": {
      "version": 1,
      "views": {
       "grid_default": {
        "col": 4,
        "height": 13,
        "hidden": false,
        "row": 8,
        "width": 4
       },
       "report_default": {}
      }
     }
    }
   },
   "outputs": [],
   "source": [
    "import numpy as np\n",
    "\n",
    "ind = np.arrange(2)\n",
    "pos = []\n",
    "p1 = plt.bar(ind, , width, yerr=menStd)\n",
    "p2 = plt.bar(ind, womenMeans, width,\n",
    "             bottom=menMeans, yerr=womenStd)\n",
    "\n",
    "plt.ylabel('Scores')\n",
    "plt.title('Scores by group and gender')\n",
    "plt.xticks(ind, ('G1', 'G2', 'G3', 'G4', 'G5'))\n",
    "plt.yticks(np.arange(0, 81, 10))\n",
    "plt.legend((p1[0], p2[0]), ('Men', 'Women'))\n",
    "\n",
    "plt.show()"
   ]
  },
  {
   "cell_type": "code",
   "execution_count": null,
   "metadata": {
    "extensions": {
     "jupyter_dashboards": {
      "version": 1,
      "views": {
       "grid_default": {
        "hidden": true
       },
       "report_default": {}
      }
     }
    }
   },
   "outputs": [],
   "source": []
  }
 ],
 "metadata": {
  "extensions": {
   "jupyter_dashboards": {
    "activeView": "grid_default",
    "version": 1,
    "views": {
     "grid_default": {
      "cellMargin": 10,
      "defaultCellHeight": 20,
      "maxColumns": 12,
      "name": "grid",
      "type": "grid"
     },
     "report_default": {
      "name": "report",
      "type": "report"
     }
    }
   }
  },
  "kernelspec": {
   "display_name": "Python 3",
   "language": "python",
   "name": "python3"
  },
  "language_info": {
   "codemirror_mode": {
    "name": "ipython",
    "version": 3
   },
   "file_extension": ".py",
   "mimetype": "text/x-python",
   "name": "python",
   "nbconvert_exporter": "python",
   "pygments_lexer": "ipython3",
   "version": "3.6.3"
  }
 },
 "nbformat": 4,
 "nbformat_minor": 2
}
