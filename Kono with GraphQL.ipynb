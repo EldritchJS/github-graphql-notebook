{
 "cells": [
  {
   "cell_type": "markdown",
   "metadata": {
    "extensions": {
     "jupyter_dashboards": {
      "version": 1,
      "views": {
       "grid_default": {
        "col": 0,
        "height": 4,
        "hidden": false,
        "row": 0,
        "width": 4
       },
       "report_default": {
        "hidden": false
       }
      }
     }
    }
   },
   "source": [
    "## Github Repo Metrics Dashboard Using GraphQL API ##"
   ]
  },
  {
   "cell_type": "code",
   "execution_count": 1,
   "metadata": {
    "extensions": {
     "jupyter_dashboards": {
      "version": 1,
      "views": {
       "grid_default": {
        "hidden": true
       },
       "report_default": {
        "hidden": true
       }
      }
     }
    }
   },
   "outputs": [],
   "source": [
    "%matplotlib inline\n",
    "\n",
    "import requests\n",
    "import json\n",
    "import pandas as pd\n",
    "import numpy as np\n",
    "import matplotlib.pyplot as plt\n",
    "import ipywidgets as widgets\n",
    "import datetime as dt\n",
    "from IPython.display import display\n",
    "from IPython.display import clear_output\n",
    "import seaborn as sns\n",
    "from vaderSentiment.vaderSentiment import SentimentIntensityAnalyzer\n",
    "from string import Template\n",
    "from matplotlib.ticker import MaxNLocator\n",
    "import time\n",
    "import pylab as pl"
   ]
  },
  {
   "cell_type": "code",
   "execution_count": 2,
   "metadata": {
    "extensions": {
     "jupyter_dashboards": {
      "version": 1,
      "views": {
       "grid_default": {
        "hidden": true
       },
       "report_default": {
        "hidden": true
       }
      }
     }
    }
   },
   "outputs": [],
   "source": [
    "analyzer = SentimentIntensityAnalyzer()\n",
    "\n",
    "ownerQuery = Template(''' \n",
    "{ \n",
    "    repositoryOwner(login : \\\"$owner\\\") {\n",
    "        login repositories (first : 100) {\n",
    "            edges {\n",
    "                node {\n",
    "                    name\n",
    "                    diskUsage\n",
    "                    forkCount \n",
    "                }\n",
    "            }\n",
    "            totalCount\n",
    "        } \n",
    "    } \n",
    "} \n",
    "''')\n",
    "\n",
    "repoQuery = Template(''' \n",
    "{ \n",
    "    repository(owner: \\\"$owner\\\", name: \\\"$repo\\\") { \n",
    "        vulnerabilityAlerts(first: 100) {\n",
    "            totalCount\n",
    "            edges {\n",
    "                node {\n",
    "                    packageName\n",
    "                }\n",
    "            }\n",
    "        }\n",
    "        dependencyGraphManifests(first: 100) {\n",
    "            totalCount\n",
    "            edges {\n",
    "                node {\n",
    "                    dependenciesCount\n",
    "                }\n",
    "            }\n",
    "        }\n",
    "        forkCount\n",
    "        watchers(first: 100) {\n",
    "            totalCount\n",
    "        }\n",
    "        stargazers(first: 100) {\n",
    "            totalCount\n",
    "        }\n",
    "        \n",
    "        commitComments(first: 100) {\n",
    "            edges {\n",
    "                node {\n",
    "                    bodyText\n",
    "                    reactions(first: 100) {\n",
    "                        edges {\n",
    "                            node {\n",
    "                                content\n",
    "                            }\n",
    "                        }\n",
    "                    }\n",
    "                }\n",
    "            }\n",
    "        }\n",
    "        pullRequests(first: 100) { \n",
    "            totalCount\n",
    "            edges { \n",
    "                node { \n",
    "                    createdAt\n",
    "                    closedAt\n",
    "                    closed\n",
    "                    merged\n",
    "                    mergedAt\n",
    "                    comments(first: 100) {\n",
    "                        edges {\n",
    "                            node {\n",
    "                                bodyText\n",
    "                            }\n",
    "                        }\n",
    "                    } \n",
    "                } \n",
    "            } \n",
    "        } \n",
    "        issues(first: 100) {\n",
    "            totalCount\n",
    "            edges {\n",
    "                node {\n",
    "                    bodyText\n",
    "                    createdAt\n",
    "                    closedAt\n",
    "                    closed\n",
    "                }\n",
    "            }\n",
    "        }\n",
    "    }\n",
    "}\n",
    "''')\n",
    "\n"
   ]
  },
  {
   "cell_type": "code",
   "execution_count": 3,
   "metadata": {
    "extensions": {
     "jupyter_dashboards": {
      "version": 1,
      "views": {
       "grid_default": {
        "hidden": true
       },
       "report_default": {
        "hidden": true
       }
      }
     }
    }
   },
   "outputs": [],
   "source": [
    "def getSentimentAPI(phrase):\n",
    "    endpointSentAPI = 'http://text-processing.com/api/sentiment/'    \n",
    "    r = requests.post(endpointSentAPI, {\"text\": phrase})\n",
    "    return r.json()\n",
    "\n",
    "def acquireOwnerRepos(ownerName, token):\n",
    "    endpointGitHub = 'https://api.github.com/graphql'\n",
    "    headersGitHub = {'Authorization': 'bearer ' + token}\n",
    "    query = ownerQuery.substitute(owner=ownerName)\n",
    "    r = requests.post(endpointGitHub, json.dumps({\"query\": query}), headers=headersGitHub)\n",
    "    data = r.json()['data']['repositoryOwner']['repositories']['edges']\n",
    "    repos = []\n",
    "    for repo in data:\n",
    "        repos.append(repo['node']['name'])\n",
    "    return repos\n",
    "\n",
    "def computeSentiment(edgeData):\n",
    "    neg = 0\n",
    "    pos = 0\n",
    "    neu = 0\n",
    "    numMessages = 0\n",
    "    \n",
    "    for cnode in edgeData:\n",
    "        phrase = cnode['node']['bodyText']\n",
    "        numMessages+=1\n",
    "        vaderScores = analyzer.polarity_scores(phrase)\n",
    "        neg += vaderScores['neg']\n",
    "        pos += vaderScores['pos']\n",
    "        neu += vaderScores['neu']\n",
    "            \n",
    "    if(numMessages > 0):\n",
    "        neg = neg/numMessages\n",
    "        pos = pos/numMessages\n",
    "        neu = neu/numMessages\n",
    "        total = neg + pos + neu\n",
    "        neg = neg*100.0/total\n",
    "        neu = neu*100.0/total\n",
    "        pos = pos*100.0/total          \n",
    "    return neg, neu, pos\n",
    "\n",
    "def computePRSentiment(edgeData):\n",
    "    neg = 0\n",
    "    pos = 0\n",
    "    neu = 0\n",
    "    numMessages = 0\n",
    "    \n",
    "    for node in edgeData:\n",
    "        edges = node['node']['comments']['edges']\n",
    "        for cnode in edges:\n",
    "            phrase = cnode['node']['bodyText']\n",
    "            numMessages+=1\n",
    "            vaderScores = analyzer.polarity_scores(phrase)\n",
    "            neg += vaderScores['neg']\n",
    "            pos += vaderScores['pos']\n",
    "            neu += vaderScores['neu']\n",
    "            \n",
    "    if(numMessages > 0):\n",
    "        neg = neg/numMessages\n",
    "        pos = pos/numMessages\n",
    "        neu = neu/numMessages\n",
    "        total = neg + pos + neu\n",
    "        neg = neg*100.0/total\n",
    "        neu = neu*100.0/total\n",
    "        pos = pos*100.0/total          \n",
    "    return neg, neu, pos\n",
    "\n",
    "def createSentimentDict(sent, msgType):\n",
    "    ret = [{'MessageType': msgType, 'SentimentType': 'Positive', 'Value': sent[2]},\\\n",
    "        {'MessageType': msgType, 'SentimentType': 'Neutral', 'Value': sent[1]},\\\n",
    "        {'MessageType': msgType, 'SentimentType': 'Negative', 'Value': sent[0]}]\n",
    "    return ret\n",
    "        \n",
    "def parseGitHubUTCTimeStamp(ts):\n",
    "    return dt.datetime.strptime(ts, '%Y-%m-%dT%H:%M:%SZ')\n",
    "\n",
    "def determineResolutionTime(opened, closed):\n",
    "    td = closed - opened\n",
    "    return abs(td.days)\n",
    "\n",
    "def computeResponseTimes(edgeData):\n",
    "    times = []\n",
    "    for node in edgeData:\n",
    "        if node['node']['closed'] == True:\n",
    "            turnaround = determineResolutionTime(parseGitHubUTCTimeStamp(node['node']['closedAt']),parseGitHubUTCTimeStamp(node['node']['createdAt']))\n",
    "            times.append(turnaround)\n",
    "    return times\n",
    "\n",
    "def acquireRepoData(ownerName, repoName, token):\n",
    "    endpointGitHub = 'https://api.github.com/graphql'\n",
    "    headersGitHub = {'Authorization': 'bearer ' + token, \n",
    "                 'Accept': 'application/vnd.github.hawkgirl-preview+json,application/vnd.github.vixen-preview+json'}\n",
    "        \n",
    "    query = repoQuery.substitute(owner=ownerName,repo=repoName)\n",
    "    r = requests.post(endpointGitHub, json.dumps({\"query\": query}), headers=headersGitHub)\n",
    "    return r.json()['data']['repository']"
   ]
  },
  {
   "cell_type": "code",
   "execution_count": 4,
   "metadata": {
    "extensions": {
     "jupyter_dashboards": {
      "version": 1,
      "views": {
       "grid_default": {
        "col": 0,
        "height": 9,
        "hidden": false,
        "row": 55,
        "width": 4
       },
       "report_default": {
        "hidden": false
       }
      }
     }
    }
   },
   "outputs": [],
   "source": [
    "def handleSentiments(repo_data):\n",
    "    prSentiments = computePRSentiment(repo_data['pullRequests']['edges'])\n",
    "    commitSentiments = computeSentiment(repo_data['commitComments']['edges'])\n",
    "    issueSentiments = computeSentiment(repo_data['issues']['edges'])\n",
    "\n",
    "    sdf = pd.DataFrame(createSentimentDict(prSentiments,'Pull Request'))\\\n",
    "        .append(createSentimentDict(issueSentiments,'Issues'),ignore_index=True)\\\n",
    "        .append(createSentimentDict(commitSentiments,'Commit'),ignore_index=True)\n",
    "    \n",
    "    sns.set_style(\"whitegrid\")\n",
    "    pal = dict(Positive=\"Green\",Neutral=\"Gray\",Negative=\"Red\")\n",
    "    g = sns.factorplot(x=\"SentimentType\",y=\"Value\",col=\"MessageType\",\\\n",
    "                        data=sdf,kind=\"bar\", ci=None,\\\n",
    "                        palette=pal,saturation=0.5, aspect=0.8)\n",
    "\n",
    "    g=g.set_axis_labels(\"\", \"Percentage\")\\\n",
    "            .set(ylim=(0, 100))\\\n",
    "            .set_titles(\"{col_name}\")\\\n",
    "            .despine(left=True)\n",
    "\n",
    "    plt.subplots_adjust(top=0.8)\n",
    "    g=g.fig.suptitle(\"Sentiments by Repo Message Type for \" + ownerText.value + '/' + repoText.value)"
   ]
  },
  {
   "cell_type": "code",
   "execution_count": 5,
   "metadata": {
    "extensions": {
     "jupyter_dashboards": {
      "version": 1,
      "views": {
       "grid_default": {
        "col": 4,
        "height": 13,
        "hidden": false,
        "row": 55,
        "width": 6
       },
       "report_default": {
        "hidden": false
       }
      }
     }
    }
   },
   "outputs": [],
   "source": [
    "def handlePRs(repo_data):\n",
    "    prTimes = computeResponseTimes(repo_data['pullRequests']['edges'])\n",
    "    openedPRs = repo_data['pullRequests']['totalCount']\n",
    "    sns.set()\n",
    "    sns.set()\n",
    "    cx = plt.figure().gca() \n",
    "\n",
    "    sns.distplot(prTimes,\\\n",
    "                 kde=False,bins=70,color='red')\n",
    "    titleStr=('Pull Request Time to Close: (' + str(openedPRs) + ' opened, ' + str(len(prTimes)) + ' closed)')\n",
    "    cx.set(ylabel=\"\",xlabel=\"Days\")\n",
    "    plt.title(titleStr,fontsize=15)\n",
    "    cx.yaxis.set_major_locator(MaxNLocator(integer=True))    "
   ]
  },
  {
   "cell_type": "code",
   "execution_count": 6,
   "metadata": {
    "extensions": {
     "jupyter_dashboards": {
      "version": 1,
      "views": {
       "grid_default": {
        "hidden": true
       },
       "report_default": {
        "hidden": false
       }
      }
     }
    }
   },
   "outputs": [],
   "source": [
    "def handleIssues(repo_data):\n",
    "    issueTimes = computeResponseTimes(repo_data['issues']['edges'])\n",
    "    openedIssues = repo_data['issues']['totalCount']\n",
    "    sns.set()\n",
    "    bx = plt.figure().gca() \n",
    "\n",
    "    sns.distplot(issueTimes,\\\n",
    "                 kde=False,bins=70,color='red')\n",
    "    titleStr=('Issue Time to Close: (' + str(openedIssues) + ' opened, ' + str(len(issueTimes)) + ' closed)')\n",
    "    bx.set(ylabel=\"\",xlabel=\"Days\")\n",
    "    plt.title(titleStr,fontsize=15)\n",
    "    bx.yaxis.set_major_locator(MaxNLocator(integer=True))    "
   ]
  },
  {
   "cell_type": "code",
   "execution_count": 7,
   "metadata": {},
   "outputs": [],
   "source": [
    "def handleMisc(repo_data):\n",
    "    retString = ''\n",
    "    if(repo_data['vulnerabilityAlerts']['totalCount']==0):\n",
    "        retString += 'You may want to enable vulnerability alerts\\n'\n",
    "    else:\n",
    "        retString += str(repo_data['vulnerabilityAlerts']['totalCount']) + ' resolved vulnerability alerts\\n'\n",
    "    retString += str(repo_data['forkCount']) + ' forks\\n'\n",
    "    retString += str(repo_data['watchers']['totalCount']) + ' watchers\\n'\n",
    "    retString += str(repo_data['stargazers']['totalCount']) + ' stargazers\\n'\n",
    "\n",
    "    return retString"
   ]
  },
  {
   "cell_type": "code",
   "execution_count": 9,
   "metadata": {
    "extensions": {
     "jupyter_dashboards": {
      "version": 1,
      "views": {
       "grid_default": {
        "col": 0,
        "height": 51,
        "hidden": false,
        "row": 4,
        "width": 9
       },
       "report_default": {
        "hidden": false
       }
      }
     }
    },
    "scrolled": true
   },
   "outputs": [
    {
     "data": {
      "application/vnd.jupyter.widget-view+json": {
       "model_id": "4ebeb87278ce4ad598ff3d7d4741b355",
       "version_major": 2,
       "version_minor": 0
      },
      "text/plain": [
       "Text(value='', description='Repo')"
      ]
     },
     "metadata": {},
     "output_type": "display_data"
    },
    {
     "data": {
      "application/vnd.jupyter.widget-view+json": {
       "model_id": "4f3be6c696c54ca5b14951f9282b06d0",
       "version_major": 2,
       "version_minor": 0
      },
      "text/plain": [
       "Text(value='', description='Repo Owner')"
      ]
     },
     "metadata": {},
     "output_type": "display_data"
    },
    {
     "data": {
      "application/vnd.jupyter.widget-view+json": {
       "model_id": "1bd3c5cb63724a37aa79c51beba5f96f",
       "version_major": 2,
       "version_minor": 0
      },
      "text/plain": [
       "Text(value='', description='API Token')"
      ]
     },
     "metadata": {},
     "output_type": "display_data"
    },
    {
     "data": {
      "application/vnd.jupyter.widget-view+json": {
       "model_id": "90ca1a396ca449099d92de014b8cd777",
       "version_major": 2,
       "version_minor": 0
      },
      "text/plain": [
       "Button(description='Compute Metrics', style=ButtonStyle())"
      ]
     },
     "metadata": {},
     "output_type": "display_data"
    },
    {
     "data": {
      "application/vnd.jupyter.widget-view+json": {
       "model_id": "7b8a8b4ce2ae44edbc7138716b568db0",
       "version_major": 2,
       "version_minor": 0
      },
      "text/plain": [
       "Output()"
      ]
     },
     "metadata": {},
     "output_type": "display_data"
    }
   ],
   "source": [
    "out = widgets.Output()\n",
    "\n",
    "def on_compute_clicked(b):\n",
    "    repo_data = acquireRepoData(ownerText.value, repoText.value, tokenText.value)\n",
    "    with out:\n",
    "        clear_output(True)\n",
    "        handleSentiments(repo_data)\n",
    "        handlePRs(repo_data)\n",
    "        handleIssues(repo_data)\n",
    "        outputText.visible=True\n",
    "        outString = handleMisc(repo_data)\n",
    "        outputText.value=outString\n",
    "        display(outputText)\n",
    "        plt.show()\n",
    "\n",
    "repoText = widgets.Text(description='Repo')\n",
    "ownerText = widgets.Text(description='Repo Owner')\n",
    "tokenText = widgets.Text(description='API Token')\n",
    "outputText = widgets.Textarea(visible=False)\n",
    "computeButton = widgets.Button(description='Compute Metrics')\n",
    "computeButton.on_click(on_compute_clicked)\n",
    "\n",
    "display(repoText)\n",
    "display(ownerText)\n",
    "display(tokenText)\n",
    "display(computeButton)\n",
    " \n",
    "out"
   ]
  },
  {
   "cell_type": "code",
   "execution_count": null,
   "metadata": {
    "extensions": {
     "jupyter_dashboards": {
      "version": 1,
      "views": {
       "grid_default": {
        "hidden": true
       },
       "report_default": {
        "hidden": true
       }
      }
     }
    }
   },
   "outputs": [],
   "source": [
    "import dash\n",
    "import dash_core_components as dcc\n",
    "import dash_html_components as html\n",
    "import plotly.graph_objs as go\n",
    "from dash.dependencies import Input, Output"
   ]
  },
  {
   "cell_type": "code",
   "execution_count": null,
   "metadata": {
    "extensions": {
     "jupyter_dashboards": {
      "version": 1,
      "views": {
       "grid_default": {
        "hidden": true
       },
       "report_default": {
        "hidden": true
       }
      }
     }
    },
    "scrolled": false
   },
   "outputs": [],
   "source": [
    "app = dash.Dash()\n",
    "\n",
    "app.layout = html.Div([\n",
    "    html.Div([\n",
    "\n",
    "        html.Div([\n",
    "            dcc.Input(id='owner-id', value='Enter Github repo owner name', type='text'),\n",
    "            dcc.Input(id='repo-id', value='Enter Github repo name', type='text'),\n",
    "            dcc.Input(id='token-id', value='Enter Github API token', type='text'),\n",
    "            html.Button('Compute Metrics', id='button')\n",
    "        ],\n",
    "        style={'width': '48%', 'display': 'inline-block'}),\n",
    "    ]),\n",
    "\n",
    "    dcc.Graph(id='sentiment-graphic'),\n",
    "    dcc.Graph(id='PR-graphic'),\n",
    "    dcc.Graph(id='Issue-graphic')\n",
    "])\n",
    "\n",
    "@app.callback(\n",
    "    dash.dependencies.Output('sentiment-graphic', 'figure'),\n",
    "    #dash.dependencies.Output('PR-graphic', 'figure'),\n",
    "    #dash.dependencies.Output('Issue-graphic', 'figure'),\n",
    "    [dash.dependencies.Input('button', 'n_clicks')],\n",
    "    [dash.dependencies.State('owner-id', 'value'),\n",
    "    dash.dependencies.State('repo-id', 'value'),\n",
    "    dash.dependencies.State('token-id', 'value')]) \n",
    "def update_output(n_clicks, value):\n",
    "    return 'Repo {} Owner {} Token {}'.format(\n",
    "        repoValue,\n",
    "        ownerValue,\n",
    "        tokenValue\n",
    "    )\n",
    "\n",
    "\n",
    "from  IPython import display\n",
    "import os\n",
    "def show_app(app, port = 8055, \n",
    "             width = 700, \n",
    "             height = 350, \n",
    "             offline = False,\n",
    "            in_binder = None):\n",
    "    url = 'http://localhost:%d' % port\n",
    "        \n",
    "    iframe = '<a href=\"{url}\" target=\"_new\">Open in new window</a><hr><iframe src=\"{url}\" width={width} height={height}></iframe>'.format(url = url, \n",
    "                                                                                  width = width, \n",
    "                                                                                  height = height)\n",
    "    \n",
    "    display.display_html(iframe, raw = True)\n",
    "    if offline:\n",
    "        app.css.config.serve_locally = True\n",
    "        app.scripts.config.serve_locally = True\n",
    "    return app.run_server(debug=False, # needs to be false in Jupyter\n",
    "                          port=port)\n",
    "\n",
    "\n",
    "show_app(app)"
   ]
  },
  {
   "cell_type": "code",
   "execution_count": null,
   "metadata": {
    "extensions": {
     "jupyter_dashboards": {
      "version": 1,
      "views": {
       "grid_default": {
        "hidden": true
       },
       "report_default": {
        "hidden": true
       }
      }
     }
    }
   },
   "outputs": [],
   "source": []
  }
 ],
 "metadata": {
  "extensions": {
   "jupyter_dashboards": {
    "activeView": "grid_default",
    "version": 1,
    "views": {
     "grid_default": {
      "cellMargin": 10,
      "defaultCellHeight": 20,
      "maxColumns": 12,
      "name": "grid",
      "type": "grid"
     },
     "report_default": {
      "name": "report",
      "type": "report"
     }
    }
   }
  },
  "kernelspec": {
   "display_name": "Python 3",
   "language": "python",
   "name": "python3"
  },
  "language_info": {
   "codemirror_mode": {
    "name": "ipython",
    "version": 3
   },
   "file_extension": ".py",
   "mimetype": "text/x-python",
   "name": "python",
   "nbconvert_exporter": "python",
   "pygments_lexer": "ipython3",
   "version": "3.6.5"
  }
 },
 "nbformat": 4,
 "nbformat_minor": 2
}
