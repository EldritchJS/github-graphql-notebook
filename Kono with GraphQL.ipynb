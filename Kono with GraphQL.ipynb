{
 "cells": [
  {
   "cell_type": "markdown",
   "metadata": {
    "extensions": {
     "jupyter_dashboards": {
      "version": 1,
      "views": {
       "grid_default": {
        "col": 0,
        "height": 4,
        "hidden": false,
        "row": 0,
        "width": 4
       },
       "report_default": {
        "hidden": false
       }
      }
     }
    }
   },
   "source": [
    "## Github Repo Metrics Using GraphQL API ##"
   ]
  },
  {
   "cell_type": "code",
   "execution_count": 1,
   "metadata": {
    "collapsed": true,
    "extensions": {
     "jupyter_dashboards": {
      "version": 1,
      "views": {
       "grid_default": {
        "hidden": true
       },
       "report_default": {
        "hidden": true
       }
      }
     }
    }
   },
   "outputs": [],
   "source": [
    "%matplotlib inline\n",
    "\n",
    "import requests\n",
    "import json\n",
    "import pandas as pd\n",
    "import numpy as np\n",
    "import matplotlib.pyplot as plt\n",
    "import ipywidgets as widgets\n",
    "import datetime as dt\n",
    "from IPython.display import display\n",
    "import numpy as np\n",
    "import seaborn as sns\n",
    "from vaderSentiment.vaderSentiment import SentimentIntensityAnalyzer\n",
    "from string import Template\n",
    "from matplotlib.ticker import MaxNLocator"
   ]
  },
  {
   "cell_type": "markdown",
   "metadata": {},
   "source": [
    "### Setup ###\n",
    "I'll begin by setting up an instance of the Vader sentiment intensity analyzer, as well as template strings for the queries I plan on sending to the Github GraphQL API. ownerQuery will return the first 100 repos associated with a github username, while repoQuery returns metrics for a given repo (note: the Github GraphQL API requires both the repo's name as well as its owner's name.)\n"
   ]
  },
  {
   "cell_type": "code",
   "execution_count": 2,
   "metadata": {},
   "outputs": [],
   "source": [
    "repoName = '<YOUR_REPO_NAME>'\n",
    "ownerName = '<YOUR_REPO_OWNER_NAME>'\n",
    "token = '<YOUR_TOKEN>'"
   ]
  },
  {
   "cell_type": "code",
   "execution_count": 3,
   "metadata": {
    "collapsed": true,
    "extensions": {
     "jupyter_dashboards": {
      "version": 1,
      "views": {
       "grid_default": {
        "hidden": true
       },
       "report_default": {
        "hidden": true
       }
      }
     }
    }
   },
   "outputs": [],
   "source": [
    "analyzer = SentimentIntensityAnalyzer()\n",
    "\n",
    "ownerQuery = Template(''' \n",
    "{ \n",
    "    repositoryOwner(login : \\\"$owner\\\") {\n",
    "        login repositories (first : 100) {\n",
    "            edges {\n",
    "                node {\n",
    "                    name\n",
    "                    diskUsage\n",
    "                    forkCount \n",
    "                }\n",
    "            }\n",
    "            totalCount\n",
    "        } \n",
    "    } \n",
    "} \n",
    "''')\n",
    "\n",
    "repoQuery = Template(''' \n",
    "{ \n",
    "    repository(owner: \\\"$owner\\\", name: \\\"$repo\\\") { \n",
    "        vulnerabilityAlerts(first: 100) {\n",
    "            totalCount\n",
    "            edges {\n",
    "                node {\n",
    "                    packageName\n",
    "                }\n",
    "            }\n",
    "        }\n",
    "        dependencyGraphManifests(first: 100) {\n",
    "            totalCount\n",
    "            edges {\n",
    "                node {\n",
    "                    dependenciesCount\n",
    "                }\n",
    "            }\n",
    "        }\n",
    "        forkCount\n",
    "        watchers(first: 100) {\n",
    "            totalCount\n",
    "        }\n",
    "        stargazers(first: 100) {\n",
    "            totalCount\n",
    "        }\n",
    "        \n",
    "        commitComments(first: 100) {\n",
    "            edges {\n",
    "                node {\n",
    "                    bodyText\n",
    "                    reactions(first: 100) {\n",
    "                        edges {\n",
    "                            node {\n",
    "                                content\n",
    "                            }\n",
    "                        }\n",
    "                    }\n",
    "                }\n",
    "            }\n",
    "        }\n",
    "        pullRequests(first: 100) { \n",
    "            totalCount\n",
    "            edges { \n",
    "                node { \n",
    "                    createdAt\n",
    "                    closedAt\n",
    "                    closed\n",
    "                    merged\n",
    "                    mergedAt\n",
    "                    comments(first: 100) {\n",
    "                        edges {\n",
    "                            node {\n",
    "                                bodyText\n",
    "                            }\n",
    "                        }\n",
    "                    } \n",
    "                } \n",
    "            } \n",
    "        } \n",
    "        issues(first: 100) {\n",
    "            totalCount\n",
    "            edges {\n",
    "                node {\n",
    "                    bodyText\n",
    "                    createdAt\n",
    "                    closedAt\n",
    "                    closed\n",
    "                }\n",
    "            }\n",
    "        }\n",
    "    }\n",
    "}\n",
    "''')"
   ]
  },
  {
   "cell_type": "markdown",
   "metadata": {},
   "source": [
    "### Data acquisition functions ###\n",
    "The functions below provide the means for submitting the queries specified above to the Github GraphQL API. In addition, they provide relevant data either by solely traversing the JSON returned or a combination of this and extraction of necessary fields (i.e. repo names in acquireOwnerRepos.)"
   ]
  },
  {
   "cell_type": "code",
   "execution_count": 4,
   "metadata": {
    "collapsed": true,
    "extensions": {
     "jupyter_dashboards": {
      "version": 1,
      "views": {
       "grid_default": {
        "hidden": true
       },
       "report_default": {
        "hidden": true
       }
      }
     }
    }
   },
   "outputs": [],
   "source": [
    "def getSentimentAPI(phrase):\n",
    "    endpointSentAPI = 'http://text-processing.com/api/sentiment/'    \n",
    "    r = requests.post(endpointSentAPI, {\"text\": phrase})\n",
    "    return r.json()\n",
    "\n",
    "def acquireOwnerRepos(ownerName, token):\n",
    "    endpointGitHub = 'https://api.github.com/graphql'\n",
    "    headersGitHub = {'Authorization': 'bearer ' + token}\n",
    "    query = ownerQuery.substitute(owner=ownerName)\n",
    "    r = requests.post(endpointGitHub, json.dumps({\"query\": query}), headers=headersGitHub)\n",
    "    data = r.json()['data']['repositoryOwner']['repositories']['edges']\n",
    "    repos = []\n",
    "    for repo in data:\n",
    "        repos.append(repo['node']['name'])\n",
    "    return repos\n",
    "\n",
<<<<<<< HEAD
    "def computeSentiment(edgeData):\n",
    "    neg = 0\n",
    "    pos = 0\n",
    "    neu = 0\n",
    "    numMessages = 0\n",
    "    \n",
    "    for cnode in edgeData:\n",
    "        phrase = cnode['node']['bodyText']\n",
    "        numMessages+=1\n",
    "        vaderScores = analyzer.polarity_scores(phrase)\n",
    "        neg += vaderScores['neg']\n",
    "        pos += vaderScores['pos']\n",
    "        neu += vaderScores['neu']\n",
    "            \n",
    "    if(numMessages > 0):\n",
    "        neg = neg/numMessages\n",
    "        pos = pos/numMessages\n",
    "        neu = neu/numMessages\n",
    "        total = neg + pos + neu\n",
    "        neg = neg*100.0/total\n",
    "        neu = neu*100.0/total\n",
    "        pos = pos*100.0/total          \n",
    "    return neg, neu, pos\n",
=======
    "def acquireRepoData(ownerName, repoName, token):\n",
    "    endpointGitHub = 'https://api.github.com/graphql'\n",
    "    headersGitHub = {'Authorization': 'bearer ' + token}\n",
    "    \n",
    "    query = repoQuery.substitute(owner=ownerName,repo=repoName)\n",
    "    r = requests.post(endpointGitHub, json.dumps({\"query\": query}), headers=headersGitHub)\n",
    "    return r.json()['data']['repository']\n",
    "\n"
   ]
  },
  {
   "cell_type": "markdown",
   "metadata": {},
   "source": [
    "### Metric computation functions ###\n",
    "The below functions compute average sentiments for pull request comments as well as turnaround time for closing pull requests and issues. "
   ]
  },
  {
   "cell_type": "code",
   "execution_count": 1,
   "metadata": {
    "collapsed": true
   },
   "outputs": [],
   "source": [
    "def computeVaderSentiment(data):\n",
    "    prData = data['pullRequests']['edges']\n",
>>>>>>> 34ac74dfbcce211a316047e0fec5325757b63c46
    "\n",
    "def computePRSentiment(edgeData):\n",
    "    neg = 0\n",
    "    pos = 0\n",
    "    neu = 0\n",
    "    numMessages = 0\n",
    "    \n",
    "    for node in edgeData:\n",
    "        edges = node['node']['comments']['edges']\n",
    "        for cnode in edges:\n",
    "            phrase = cnode['node']['bodyText']\n",
    "            numMessages+=1\n",
    "            vaderScores = analyzer.polarity_scores(phrase)\n",
    "            neg += vaderScores['neg']\n",
    "            pos += vaderScores['pos']\n",
    "            neu += vaderScores['neu']\n",
    "            \n",
    "    if(numMessages > 0):\n",
    "        neg = neg/numMessages\n",
    "        pos = pos/numMessages\n",
    "        neu = neu/numMessages\n",
    "        total = neg + pos + neu\n",
    "        neg = neg*100.0/total\n",
    "        neu = neu*100.0/total\n",
    "        pos = pos*100.0/total          \n",
    "    return neg, neu, pos\n",
    "\n",
    "def createSentimentDict(sent, msgType):\n",
    "    ret = [{'MessageType': msgType, 'SentimentType': 'Positive', 'Value': sent[2]},\\\n",
    "        {'MessageType': msgType, 'SentimentType': 'Neutral', 'Value': sent[1]},\\\n",
    "        {'MessageType': msgType, 'SentimentType': 'Negative', 'Value': sent[0]}]\n",
    "    return ret\n",
    "        \n",
    "def parseGitHubUTCTimeStamp(ts):\n",
    "    return dt.datetime.strptime(ts, '%Y-%m-%dT%H:%M:%SZ')\n",
    "\n",
    "def determineResolutionTime(opened, closed):\n",
    "    td = closed - opened\n",
    "    return abs(td.days)\n",
    "\n",
    "def computeResponseTimes(edgeData):\n",
    "    times = []\n",
    "    for node in edgeData:\n",
    "        if node['node']['closed'] == True:\n",
    "            turnaround = determineResolutionTime(parseGitHubUTCTimeStamp(node['node']['closedAt']),parseGitHubUTCTimeStamp(node['node']['createdAt']))\n",
<<<<<<< HEAD
    "            times.append(turnaround)\n",
    "    return times\n",
    "\n",
    "def acquireRepoData(ownerName, repoName, token):\n",
    "    endpointGitHub = 'https://api.github.com/graphql'\n",
    "    headersGitHub = {'Authorization': 'bearer ' + token, \n",
    "                 'Accept': 'application/vnd.github.hawkgirl-preview+json,application/vnd.github.vixen-preview+json'}\n",
    "        \n",
    "    query = repoQuery.substitute(owner=ownerName,repo=repoName)\n",
    "    r = requests.post(endpointGitHub, json.dumps({\"query\": query}), headers=headersGitHub)\n",
    "    return r.json()['data']['repository']"
   ]
  },
  {
   "cell_type": "code",
   "execution_count": 6,
=======
    "            prTimes.append(turnaround)\n",
    "    return prTimes\n",
    "\n",
    "def computeIssueResponseTimes(repoData):\n",
    "    issueData = repoData['issues']['edges']\n",
    "    issueTimes = []\n",
    "    for node in issueData:\n",
    "        if node['node']['closed'] == True:\n",
    "            turnaround = determineResolutionTime(parseGitHubUTCTimeStamp(node['node']['closedAt']),parseGitHubUTCTimeStamp(node['node']['createdAt']))\n",
    "            issueTimes.append(turnaround)\n",
    "    return issueTimes\n"
   ]
  },
  {
   "cell_type": "markdown",
>>>>>>> 34ac74dfbcce211a316047e0fec5325757b63c46
   "metadata": {
    "extensions": {
     "jupyter_dashboards": {
      "version": 1,
      "views": {
       "grid_default": {
        "hidden": true
       },
       "report_default": {
        "hidden": true
       }
      }
     }
    }
   },
   "source": [
<<<<<<< HEAD
    "repo_data = acquireRepoData(ownerName, repoName, token)"
=======
    "Below is an example of our acquiring repo data and computing sentiments on pull request comments, followed by a visualization of the results."
>>>>>>> 34ac74dfbcce211a316047e0fec5325757b63c46
   ]
  },
  {
   "cell_type": "code",
   "execution_count": 7,
   "metadata": {},
   "outputs": [
    {
     "data": {
      "image/png": "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\n",
      "text/plain": [
       "<Figure size 691.2x288 with 3 Axes>"
      ]
     },
     "metadata": {},
     "output_type": "display_data"
    }
   ],
   "source": [
<<<<<<< HEAD
    "prSentiments = computePRSentiment(repo_data['pullRequests']['edges'])\n",
    "commitSentiments = computeSentiment(repo_data['commitComments']['edges'])\n",
    "issueSentiments = computeSentiment(repo_data['issues']['edges'])\n",
    "\n",
    "sdf = pd.DataFrame(createSentimentDict(prSentiments,'Pull Request'))\\\n",
    "    .append(createSentimentDict(issueSentiments,'Issues'),ignore_index=True)\\\n",
    "    .append(createSentimentDict(commitSentiments,'Commit'),ignore_index=True)\n",
    "    \n",
    "sns.set_style(\"whitegrid\")\n",
    "pal = dict(Positive=\"Green\",Neutral=\"Gray\",Negative=\"Red\")\n",
    "g = sns.factorplot(x=\"SentimentType\",y=\"Value\",col=\"MessageType\",\\\n",
    "                    data=sdf,kind=\"bar\", ci=None,\\\n",
    "                    palette=pal,saturation=0.5, aspect=0.8)\n",
=======
    "repo_data = acquireRepoData('eldritchjs', 'equoid-data-handler', 'Insert Token Here')\n",
    "sentiments = computeVaderSentiment(repo_data)\n",
    "\n",
    "ind = np.arange(1, 4)\n",
>>>>>>> 34ac74dfbcce211a316047e0fec5325757b63c46
    "\n",
    "g=g.set_axis_labels(\"\", \"Percentage\")\\\n",
    "        .set(ylim=(0, 100))\\\n",
    "        .set_titles(\"{col_name}\")\\\n",
    "        .despine(left=True)\n",
    "\n",
    "plt.subplots_adjust(top=0.8)\n",
    "g=g.fig.suptitle(\"Sentiments by Repo Message Type for \" + ownerName + '/' + repoName)"
   ]
  },
  {
   "cell_type": "markdown",
   "metadata": {},
   "source": [
    "Next we compute the turnaround times for pull requests and plot a histogram in terms of turnaround in days."
   ]
  },
  {
   "cell_type": "code",
   "execution_count": 8,
   "metadata": {
    "extensions": {
     "jupyter_dashboards": {
      "version": 1,
      "views": {
       "grid_default": {
        "col": 4,
        "height": 13,
        "hidden": false,
        "row": 0,
        "width": 6
       },
       "report_default": {
        "hidden": false
       }
      }
     }
    }
   },
   "outputs": [
    {
     "data": {
      "image/png": "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\n",
      "text/plain": [
       "<Figure size 432x288 with 1 Axes>"
      ]
     },
     "metadata": {},
     "output_type": "display_data"
    }
   ],
   "source": [
    "prTimes = computeResponseTimes(repo_data['pullRequests']['edges'])\n",
    "openedPRs = repo_data['pullRequests']['totalCount']\n",
    "sns.set()\n",
    "plt.hist(prTimes, color = 'red')\n",
    "\n",
    "titleStr=('Pull Request Time to Close: (' + str(openedPRs) + ' opened, ' + str(len(prTimes)) + ' closed)')\n",
    "axes = plt.gca()\n",
    "axes.set(ylabel=\"\",xlabel=\"Days\")\n",
    "plt.title(titleStr)\n",
    "axes.yaxis.set_major_locator(MaxNLocator(integer=True))"
   ]
  },
  {
   "cell_type": "markdown",
   "metadata": {},
   "source": [
    "Finally we do the same for issue turnaround time. "
   ]
  },
  {
   "cell_type": "code",
<<<<<<< HEAD
   "execution_count": 9,
   "metadata": {},
   "outputs": [
    {
     "data": {
      "image/png": "iVBORw0KGgoAAAANSUhEUgAAAXQAAAEWCAYAAAB2X2wCAAAABHNCSVQICAgIfAhkiAAAAAlwSFlzAAALEgAACxIB0t1+/AAAADl0RVh0U29mdHdhcmUAbWF0cGxvdGxpYiB2ZXJzaW9uIDIuMi4yLCBodHRwOi8vbWF0cGxvdGxpYi5vcmcvhp/UCwAAIABJREFUeJzt3XlcVPX+P/DXwIihLG6DqNebaeIOiCwqiIECKpsgpCVWpLlcFZE0Qb5aoWlp17Vbamp5by6lIV6XysxcEhW9LriVqdcFZXFB2RSY4fP7w+v8IpBlGJjh4+v5ePh4OGfO53Pe7+Hw4syZmTMKIYQAERHVeyaGLoCIiPSDgU5EJAkGOhGRJBjoRESSYKATEUmCgU5EJAkGej3w73//G2+++aahy9CLUaNGYfPmzQat4dKlSwgNDcWz+o7dxMREvPLKK4Yuo5S63i/S0tLQqVMnqNVqAMDkyZOxf//+Ott+bXmmA93b2xvJycmGLgP+/v7o2bMnevbsiS5duqBHjx7a2ytWrEBQUBDWrl1bJ7V06tQJ165d03l8UVERli9fDl9fXzg6OsLb2xtxcXFIS0vTY5U1s3TpUowePRoKhaLU8qtXr6JHjx6YNm2adtmRI0cQGBgIZ2dnuLm5YeLEicjMzKzrkg1m3759eOWVV+Ds7Ax3d3fEx8cjLy9Pe/+CBQvQv39/ODk5wcvLCytWrDBgtbp76623sHTpUkOXUWPPdKAbi507d+LkyZM4efIknJ2dMXv2bO3t8ePHG7q8aomKisLevXvx8ccf4/jx49i2bRu6d++Ow4cPG7o0AEBWVhaOHj2KgQMHlrkvISEBPXr0KLXsxRdfxOrVq3H8+HEcPHgQzz//PN599926KtfgcnNzMWHCBBw8eBC7du1CZmYmFixYoL0/LCwM3333HU6cOIFNmzZh+/bt2L17twEr1o29vT3y8vJw5swZQ5dSIwz0/7l27RoiIiLQq1cvuLm5ITo6GgAghMC8efPQp08fODk5ITAwEBcvXgRQ9mnin5/KXr58GZGRkXB1dYWfnx927dqlU21/nrdTp05Yv349fH190bNnTyxZsgTXr1/HiBEj4OTkhClTpqCoqEi7/s8//4zg4GA4OztjxIgR+PXXX8vdzsiRIwEAwcHB6Nmzp7beb775Bj4+PnB1dcX48eOfeoSanJyM5ORkfPrpp7C3t4dSqYSlpSVGjhyJ8PDwMuuXlJTg008/hZeXF/r06YN33nkHubm5AIDCwkJMmzYNbm5ucHZ2xrBhw3Dnzh0Aj0Nm5syZ8PDwQL9+/bB48WJoNJoqPZbJycno2rUrGjZsWGr5zp07YWlpiT59+pRa3qJFC7Rs2VJ729TUFNevX3/q/JcvX8aoUaPg7OwMf39//PTTT9r7YmNjMXv2bERGRqJnz56IiIjAzZs3S4192v4SGxuL999/H2PHjkXPnj0RHh5eqo6KxmZnZ2P8+PFwcnJCWFhYhfX/WWBgIDw9PWFubg5ra2u8/PLLOHnypPb+9u3bo1GjRtrbJiYmFT7D27NnD4KDg+Hk5ISBAwfiwIEDZdapjf1Co9Hgo48+gpubGwYMGFDu6RVXV9f6f9pFPMO8vLzEoUOHhBBCTJ06VXz66adCo9GIR48eiWPHjgkhhDhw4IAICQkRDx48ECUlJeLSpUsiMzNTCCFERESE+Oabb7Tzffvtt2LEiBFCCCHy8/OFp6en2LJliyguLhbnzp0Trq6u4vfff6+wpj/P+ed5hRDCzs5OjB8/XuTm5oqLFy+Kbt26iddee01cv35d5OTkiMGDB4vExEQhhBDnzp0TvXv3FqdOnRJqtVokJiYKLy8vUVhYWO727ezsxNWrV7W3k5OThaurqzh79qwoLCwUCQkJ4tVXXy137MKFC8XIkSOr3N/mzZvFwIEDxfXr10VeXp6YOHGimDZtmhBCiI0bN4px48aJgoICoVarxZkzZ0Rubq4QQoi//e1vYtasWSI/P1/cuXNHDBs2TGzcuFEIIcTNmzdFr169xM2bN8vd/ocffijee++9Ustyc3OFr6+vSE9PF8uWLRNvv/12qfufzNmpUyfRtWtX8e2335Y7d1FRkRg4cKD47LPPRGFhoUhOThaOjo7i8uXLQgghZsyYIRwdHUVKSoooLCwUc+bMqfL+MmPGDOHq6ipOnz4tiouLRUxMjIiOjq7S2OjoaBEVFSXy8/PFb7/9Jjw8PErtT9Uxd+5c7XafWLlypXB0dBR2dnbC29tbpKenlzv29OnTwsnJSfzyyy9Co9GIjIwMcenSJSFE7e8XGzZsEH5+fuLWrVsiOztbRERECDs7O1FcXKytb+3atWLixIk6PS7Ggkfo/6NUKnHr1i1kZWWhYcOGcHZ21i7Pz8/HlStXIIRAhw4dYGNjU+l8+/btQ5s2bTBs2DAolUp07doVfn5++P777/VS75gxY2BhYYGOHTvCzs4O7u7uaNu2LSwtLeHp6Ynz588DAL7++msMHz4cDg4OMDU1RUhICBo0aIBTp05VaTvbt2/HsGHD0K1bN5iZmSEmJganTp0q95z4/fv3oVKpqtzD9u3b8cYbb6Bt27Zo3LgxYmJisGvXLqjVaiiVSty/fx/Xrl2DqakpunfvDgsLC9y5cwf79+/HzJkz0ahRIzRv3hxvvPEGdu7cCQBo3bo1jh8/jtatW5e7zdzcXDRu3LjUsiVLlmDYsGGwtbUtd8yTOY8cOYIpU6agffv25a53+vRpFBQUYOzYsTAzM0OfPn3g5eWlrQ0AXnrpJbi4uMDMzAxTp07FqVOnkJ6eXqX9ZeDAgdpnPkFBQbhw4QKAivc1jUaD3bt3IyoqCo0aNYKdnR1CQkKq/DP6o0OHDiEpKQlRUVGllo8dOxYnTpzA1q1bERwcDAsLi3LHb9myBcOGDYO7uztMTEzQsmVLdOjQocx6tbFffPfdd3j99dfRqlUrNGnSBOPGjSuz3caNGyMnJ0enx8ZYKA1dgLGYPn06li5dirCwMFhbWyMyMhJhYWHo06cPRo4ciYSEBNy8eRO+vr6YMWPGU3faJ27evInU1FTtHwbg8dO+oKAgvdTbokUL7f8bNmxY5vaTp6G3bt1CUlISvvrqK+39xcXFyMrKqtJ2srKy0K1bN+3txo0bo0mTJsjMzMRf/vKXUus2adIEV69erXIPWVlZaNOmjfZ2mzZtoFarcffuXQQHByMjIwMxMTHIyclBUFAQpk6dilu3bkGtVsPDw0M7rqSkBK1atarSNq2srJCfn6+9feHCBRw+fBhbt26tdGyTJk0QEhKC4OBgHDhwAEpl6V+frKws2NrawsTk/x8ntW7dutQpqj/+0WjcuDGsra2RlZVVpf3ljz/j5557DgUFBQAq3tfu3bsHtVpd6vF52h+7ipw6dQpvv/02li1bhhdeeKHM/QqFAl27dsUvv/yC5cuXIy4ursw66enp6N+/f6Xbqo39Iisrq9LHID8/H1ZWVpXWZ8wY6P+jUqkwd+5cAMDx48cRGRkJFxcXPP/883jttdfw2muv4e7du4iOjsbq1asRHR0Nc3NzPHz4UDvHkxAFgFatWsHFxQVffPFFnffyR61atcL48eMxYcIEncbb2NiUOs9bUFCA+/fvlzqv/ETfvn3xz3/+ExkZGU892q1o7lu3bkGpVKJ58+ZQKpWYNGkSJk2ahLS0NIwdOxYvvPAC+vfvDzMzMxw5cqRMoFZFp06dkJSUpL199OhR3Lx5E15eXtr+NBoNQkJCyg15jUaDu3fvIi8vD02aNCnTT0ZGBkpKSrShnp6ejnbt2mnXycjI0P4/Pz8fDx48gI2NTY32l4rGajQaKJVKpKena4+G09PTqzX/+fPnMWHCBO1rSRVRq9VPPUffqlWrKp2/r439QqVSleq7vMfg8uXL6Ny5c6X1GTOecvmf7777TvvLZm1tDYVCARMTE6SmpuL06dMoLi6Gubk5zMzMtL+sXbp0wY8//oiHDx/i2rVr2LJli3a+l156CVevXkVSUhKKi4tRXFyM1NRUXL58uU77Cg8Px6ZNm3D69GkIIVBQUIB9+/aVeuvZH7Vo0QI3btzQ3g4ICEBiYiIuXLiAoqIiLFq0CPb29mWOzoHHgd63b19MnDgRZ8+ehVqtRl5eHjZu3Fjqsfnj3OvWrcONGzeQn5+PxYsXY/DgwVAqlThy5Ah+++03aDQaWFhYQKlUwsTEBDY2NnB3d8eHH36IvLw8lJSU4Pr160hJSanS4+Hu7o7z58+jsLAQADB8+HD8+OOPSEpKQlJSEkaMGIGXXnoJa9asAQDs3r0bV65cQUlJCe7du4f58+eja9euZcIcePxOieeeew6rV69GcXExjh49ir1792LIkCHadfbv34/jx4+jqKgIS5cuhYODA1q1alWj/aWisaampvDx8cEnn3yChw8f4tKlS2X+UI0aNQrLly8vd+6LFy9izJgxmDVrFry9vUvdV1JSgk2bNuHBgwcQQiA1NRUbNmx4auiHhYUhMTERhw8fRklJCTIzM8vtrzb2i8GDB+Nf//oXMjIy8ODBA6xatarMdo8dOwZPT89KH29jxkD/nzNnziA8PBw9e/bEhAkTEB8fj7Zt2yI/Px//93//B1dXV3h5eaFJkyYYPXo0AOD1119HgwYN0LdvX8yYMQOBgYHa+SwsLLBmzRrs2rUL/fr1g4eHBz7++ONS7z6pCz169MCcOXOQkJAAFxcX+Pr6IjEx8anrT5o0CbGxsXB2dsauXbvQt29fTJkyBZMnT4aHhwdu3LiBxYsXP3X8smXL0L9/f0ydOhXOzs4IDAzE2bNn0bdv3zLrDhs2DEFBQYiIiMCAAQNgZmaGWbNmAXj8bCcqKgq9evXCkCFD4OrqiuDgYACP3/tcXFyMIUOGwMXFBVFRUbh9+zaAx0dzPXv2xK1bt8qtr0WLFnBzc9O++8Tc3BwqlUr7r1GjRjAzM0OzZs0AAJmZmRgzZoz2HU4mJib45JNPyp3bzMwMK1aswIEDB9C7d2+8//77WLBgQanzxAEBAfjHP/4BNzc3nDt3DgsXLgRQs/2lsrGzZ89GQUEB3N3dERsbi9DQ0FLj09PT4eTkVO7cX3zxBe7du4f4+HjtZyP8/f219//444/w8fGBk5MTpk+fjoiICIwaNarcuezt7TF//nzMmzcPvXr1QkRERLk/p9rYL15++WV4eHggODgYISEh8PX1LbXN1NRUNGrUCPb29pU+3sZMIcQz+nE5emZdunQJM2bMwJYtW8p8uKg2xcbGomXLlpg6dWqdbbMyGRkZiI6OxqZNmwxdikFNnjwZYWFhVTrHb8wY6ER1xBgDneTCUy5ERJLgEToRkSR4hE5EJIk6fR/67du5Oo9t2rQRsrML9FiNYbEf4ydbT+zHuFXUj0plWaU56s0RulJpaugS9Ir9GD/ZemI/xk0f/dSbQCciooox0ImIJMFAJyKSBAOdiEgSDHQiIkkw0ImIJFFpoKenp2PUqFEYMmQI/P39sW7dOgCPLzfr7++Pzp071/svViUikkGlHywyNTVFbGwsunXrhry8PO1XSNnZ2WH58uXP1DegExEZs0oD3cbGRvsdmhYWFmjfvj0yMzPh7u5e68UREVHVVeuj/2lpabhw4QIcHBx02ljTpo10/zSUQoGqf/2wntXS9cuq+nHe+kK2fgD5emI/xq2m/VQ50PPz8xEVFYWZM2dW+gXJT1OT6y4YLMxRs2vQPI1KZVkr8xqKbP0A8vXEfoxbRf3o9VouxcXFiIqKQmBgYJmvbiIiIuNQaaALIRAfH4/27dsjMjKyLmoiIiIdVHrK5T//+Q+2bdsGOzs77ZexxsTEoKioCHPmzMG9e/cwbtw4dOnSRftN6UREVPcqDXRnZ2f89ttv5d7n4+Oj94KIiEg3/KQoEZEkGOhERJJgoBMRSYKBTkQkCQY6EZEkGOhERJJgoBMRSYKBTkQkCQY6EZEkGOhERJJgoBMRSYKBTkQkCQY6EZEkGOhERJJgoBMRSYKBTkQkCQY6EZEkGOhERJJgoBMRSYKBTkQkiUoDPS4uDn369EFAQIB22YULF/Dyyy8jODgYoaGhSE1NrdUiiYiocpUGemhoKFavXl1q2cKFCzFx4kRs27YNU6ZMwcKFC2utQCIiqppKA93FxQXW1tallikUCuTn5wMAcnNzYWNjUzvVERFRlSmEEKKyldLS0jB+/Hjs2LEDAHD58mWMHj0aQgiUlJRg06ZNaNOmTaUbU6s1UCpNdaxUods4faj8ISIiMjilLoM2btyIuLg4+Pn5YdeuXYiPj8eXX35Z6bjs7AJdNgcAUOk8suZu387V+5wqlWWtzGsosvUDyNcT+zFuFfWjUllWaQ6d3uWydetW+Pr6AgAGDx7MF0WJiIyAToFuY2ODlJQUAMCRI0fQrl07fdZEREQ6qPSUS0xMDFJSUpCdnQ1PT09MnjwZc+bMwbx586BWq9GwYUMkJCTURa1ERFSBSgN90aJF5S5PTEzUezFERKQ7flKUiEgSDHQiIkkw0ImIJMFAJyKSBAOdiEgSDHQiIkkw0ImIJMFAJyKSBAOdiEgSDHQiIkkw0ImIJMFAJyKSBAOdiEgSDHQiIkkw0ImIJMFAJyKSBAOdiEgSDHQiIkkw0ImIJMFAJyKSBAOdiEgSlQZ6XFwc+vTpg4CAAO2y5cuXo1+/fggODkZwcDD2799fq0USEVHllJWtEBoaioiICMyYMaPU8jfeeAOjR4+utcKIiKh6Kj1Cd3FxgbW1dV3UQkRENVDpEfrTrF+/HklJSejevTtiY2OrFPpNmzaCUmmq6yYNRqWyrFfzGops/QDy9cR+jFtN+1EIIURlK6WlpWH8+PHYsWMHAODOnTto2rQpFAoFli5diqysLMyfP7/Sjd2+natzoSobK53H1tTtrBy9z6lSWdbo8TA2svUDyNcT+zFuFfVT1aDX6V0uLVq0gKmpKUxMTBAeHo4zZ87oMg0REemRToGelZWl/f+ePXvQsWNHvRVERES6qfQcekxMDFJSUpCdnQ1PT09MnjwZKSkp+PXXXwEAbdq0QUJCQq0XSkREFas00BctWlRmWXh4eK0UQ0REuuMnRYmIJMFAJyKSBAOdiEgSDHQiIkkw0ImIJMFAJyKSBAOdiEgSDHQiIkkw0ImIJMFAJyKSBAOdiEgSDHQiIkkw0ImIJMFAJyKSBAOdiEgSDHQiIkkw0ImIJMFAJyKSBAOdiEgSDHQiIklU+iXRcXFx2LdvH5o3b44dO3YAAD766CP8/PPPaNCgAf76179i/vz5sLKyqvViiYjo6So9Qg8NDcXq1atLLXN3d8eOHTuwfft2tGvXDitXrqy1AomIqGoqDXQXFxdYW1uXWubh4QGl8vHBvaOjIzIyMmqnOiIiqrJKT7lU5ttvv8XgwYOrtG7Tpo2gVJrWdJN1TqWyrFfzGops/QDy9cR+jFtN+6lRoH/22WcwNTVFUFBQldbPzi7QeVsqnUfW3O3buXqfU6WyrJV5DUW2fgD5emI/xq2ifqoa9DoHemJiIvbt24cvv/wSCoVC12mIiEhPdAr0AwcOYPXq1fjqq69gbm6u75qIiEgHlQZ6TEwMUlJSkJ2dDU9PT0yePBmrVq1CUVERIiMjAQAODg5ISEio9WKJiOjpKg30RYsWlVkWHh5eK8UQEZHu+ElRIiJJMNCJiCTBQCcikgQDnYhIEgx0IiJJMNCJiCTBQCcikgQDnYhIEgx0IiJJMNCJiCTBQCcikgQDnYhIEgx0IiJJMNCJiCTBQCcikgQDnYhIEgx0IiJJMNCJiCTBQCcikgQDnYhIEgx0IiJJ1CjQ161bh4CAAPj7++PLL7/UU0lERKQLnQP94sWL2Lx5MzZv3oxt27Zh3759uHbtmj5rIyKiatA50C9fvgx7e3uYm5tDqVTCxcUFu3fv1mdtRERUDUpdB9rZ2WHJkiXIzs7Gc889hwMHDqB79+4VjmnatBGUSlNdN2kwKpVlvZrXUGTrB5CvJ/Zj3Graj86B3qFDB4wZMwajR4+Gubk5OnfuDBOTig/4s7MLdN0cVDqPrLnbt3P1PqdKZVkr8xqKbP0A8vXEfoxbRf1UNehr9KJoeHg4EhMTsX79elhbW6Ndu3Y1mY6IiGqgRoF+9+5dAMCtW7ewe/duBAYG6qUoIiKqPp1PuQDA5MmTcf/+fSiVSrz77ruwsrLSV11ERFRNNQr0DRs26KsOIiKqIX5SlIhIEgx0IiJJMNCJiCTBQCcikgQDnYhIEgx0IiJJMNCJiCTBQCcikgQDnYhIEgx0IiJJMNCJiCTBQCcikgQDnYhIEgx0IiJJMNCJiCTBQCcikgQDnYhIEgx0IiJJMNCJiCTBQCcikkSNAj0nJwdRUVEYNGgQBg8ejJMnT+qrLiIiqiZlTQZ/8MEH6NevH5YtW4aioiI8evRIX3UREVE16XyEnpubi2PHjiEsLAwAYGZmBisrK70VRkRE1aNzoKelpaFZs2aIi4vD0KFDER8fj4KCAn3WRkRE1aAQQghdBp45cwbDhw/Hxo0b4eDggLlz58LCwgLR0dFPHaNWa6BUmupYqUK3cfqg20NERFSndD6HbmtrC1tbWzg4OAAABg0ahFWrVlU4Jjtb9yN4lc4ja+727Vy9z6lSWdbKvIYiWz+AfD2xH+NWUT8qlWWV5tD5lItKpYKtrS2uXLkCADh8+DA6dOig63RERFRDNXqXy6xZszBt2jQUFxejbdu2mD9/vr7qIiKiaqpRoHfp0gWJiYn6qoWIiGqAnxQlIpIEA52ISBIMdCIiSTDQiYgkwUAnIpIEA52ISBIMdCIiSTDQiYgkwUAnIpIEA52ISBIMdCIiSTDQiYgkwUAnIpIEA52ISBIMdCIiSTDQiYgkwUAnIpIEA52ISBIMdCIiSTDQiYgkwUAnIpKEUteBhYWFGDlyJIqKiqDRaODn54eoqCh91kZERNWgc6CbmZlh3bp1aNy4MYqLi/Hqq6/C09MTjo6O+qyPiIiqSOdTLgqFAo0bNwYAqNVqqNVqKBQKvRVGRETVoxBCCF0HazQahIaG4vr163j11Vcxffr0CtdXqzVQKk1125gh/1jo/hAREdUZnU+5AICpqSm2bduGnJwcTJw4ERcvXoSdnd1T18/OLtB5WyqdR9bc7du5ep9TpbKslXkNRbZ+APl6Yj/GraJ+VCrLKs2hl3e5WFlZwc3NDQcPHtTHdEREpAOdA/3evXvIyckBADx69AjJyclo37693gojIqLq0fmUS1ZWFmJjY6HRaCCEwKBBg+Dl5aXP2oiIqBp0DvTOnTsjKSlJn7UQEVEN8JOiRESSYKATEUmCgU5EJAkGOhGRJBjoRESSYKATEUmCgU5EJAkGOhGRJBjoRESSYKATEUmCgU5EJAkGOhGRJBjoRESSYKATEUmiRl9BR0Q1p7Kxqrtt/eH/t7Ny6my7xqIuH+s/q4vHm0foRESSYKATEUmCgU5EJAkGOhGRJBjoRESSYKATEUmiRoF+4MAB+Pn5wcfHB6tWrdJXTUREpAOdA12j0SAhIQGrV6/Gzp07sWPHDly6dEmftRERUTXoHOipqal4/vnn0bZtW5iZmcHf3x8//fSTPmsjIqJq0PmTopmZmbC1tdXebtmyJVJTUysco1JZ6ro5QAjdx9aQqvJVdJu3Jo+HEZKtH6COejLQvl1b+3VdqvbPx8hzpKb7G18UJSKShM6B3rJlS2RkZGhvZ2ZmomXLlnopioiIqk/nQO/RoweuXr2KGzduoKioCDt37oS3t7c+ayMiomrQ+Ry6UqnE7NmzMWbMGGg0GgwbNgwdO3bUZ21ERFQNCiEM+CoBERHpDV8UJSKSBAOdiEgSRh/o9fXyAnFxcejTpw8CAgK0y+7fv4/IyEj4+voiMjISDx48AAAIITB37lz4+PggMDAQ586dM1TZT5Weno5Ro0ZhyJAh8Pf3x7p16wDU354KCwsRFhaGoKAg+Pv7Y9myZQCAGzduIDw8HD4+PoiOjkZRUREAoKioCNHR0fDx8UF4eDjS0tIMWf5TaTQaDB06FOPGjQNQ//vx9vZGYGAggoODERoaCqD+7nMAkJOTg6ioKAwaNAiDBw/GyZMn9duPMGJqtVoMGDBAXL9+XRQWForAwEDx+++/G7qsKklJSRFnz54V/v7+2mUfffSRWLlypRBCiJUrV4oFCxYIIYTYt2+fGD16tCgpKREnT54UYWFhBqm5IpmZmeLs2bNCCCFyc3OFr6+v+P333+ttTyUlJSIvL08IIURRUZEICwsTJ0+eFFFRUWLHjh1CCCFmzZol1q9fL4QQ4quvvhKzZs0SQgixY8cOMWXKFMMUXom1a9eKmJgYMXbsWCGEqPf9eHl5ibt375ZaVl/3OSGEeOedd8Q333wjhBCisLBQPHjwQK/9GPURen2+vICLiwusra1LLfvpp58wdOhQAMDQoUOxZ8+eUssVCgUcHR2Rk5ODrKysOq+5IjY2NujWrRsAwMLCAu3bt0dmZma97UmhUKBx48YAALVaDbVaDYVCgSNHjsDPzw8AEBISot3f9u7di5CQEACAn58fDh8+DGFk7yfIyMjAvn37EBYWBuDxEV597udp6us+l5ubi2PHjml/PmZmZrCystJrP0Yd6OVdXiAzM9OAFdXM3bt3YWNjAwBQqVS4e/cugLJ92traGnWfaWlpuHDhAhwcHOp1TxqNBsHBwejbty/69u2Ltm3bwsrKCkrl43fz/rHmzMxMtGrVCsDjt+xaWloiOzvbYLWXZ968eZg+fTpMTB7/WmdnZ9frfp4YPXo0QkND8fXXXwOov79HaWlpaNasGeLi4jB06FDEx8ejoKBAr/0YdaDLTKFQQKFQGLqMasvPz0dUVBRmzpwJCwuLUvfVt55MTU2xbds27N+/H6mpqbhy5YqhS9LZzz//jGbNmqF79+6GLkWvNm7ciK1bt+Lzzz/H+vXrcezYsVL316d9Tq1W4/z583jllVeQlJQEc3PzMq8L1rQfow502S4v0Lx5c+1TpqysLDRr1gxA2T4zMjKMss/i4mJERUUhMDAQvr6+AOp/TwBgZWUFNzc3nDp1Cjk5OVCr1QBK19yyZUukp6cDePyLmZubi6YiroOzAAAEY0lEQVRNmxqs5j87ceIE9u7dC29vb8TExODIkSP44IMP6m0/Tzypt3nz5vDx8UFqamq93edsbW1ha2sLBwcHAMCgQYNw/vx5vfZj1IEu2+UFvL29kZSUBABISkrCgAEDSi0XQuDUqVOwtLTUPgUzFkIIxMfHo3379oiMjNQur6893bt3Dzk5OQCAR48eITk5GR06dICbmxt++OEHAMDWrVu1+5u3tze2bt0KAPjhhx/Qu3dvozoyfPvtt3HgwAHs3bsXixYtQu/evfH3v/+93vYDAAUFBcjLy9P+/9ChQ+jYsWO93edUKhVsbW21zwQPHz6MDh066LUfo/+k6P79+zFv3jzt5QUmTJhg6JKqJCYmBikpKcjOzkbz5s0xefJkDBw4ENHR0UhPT0fr1q2xZMkSNGnSBEIIJCQk4ODBgzA3N8e8efPQo0cPQ7dQyvHjxzFy5EjY2dlpz9HGxMTA3t6+Xvb066+/IjY2FhqNBkIIDBo0CJMmTcKNGzcwdepUPHjwAF26dMHHH38MMzMzFBYWYvr06bhw4QKsra2xePFitG3b1tBtlOvo0aNYu3YtVq5cWa/7uXHjBiZOnAjg8esdAQEBmDBhArKzs+vlPgcAFy5cQHx8PIqLi9G2bVvMnz8fJSUleuvH6AOdiIiqxqhPuRARUdUx0ImIJMFAJyKSBAOdiEgSDHQiIkno/I1FRMbM29sbZmZmMDMzw8OHD/Hiiy/irbfegpOTk6FLI6o1DHSS1rJly2BnZwcA2L17N8aOHYs1a9ZoP6lHJBuecqFngq+vL0aMGIE1a9bg8OHDGD58OIYOHYrAwEDs3LkTwOOre/7x+vUAEBQUhBMnTuDKlSsYPnw4goKCEBAQgDVr1hiiDaIK8QidnhkODg7Yu3cvunbtig0bNsDU1BR37txBaGgoPDw8YG9vj0aNGiElJQWurq44fvw4TExM4OTkhLlz58Lb21v7xRFPvoSAyJgw0OmZ8eRD0ffu3cPMmTNx7do1mJqa4sGDB/jvf/8LR0dHjBo1Chs2bICrqyvWr1+PkSNHAnh8ffuFCxfi4cOHcHNzQ+/evQ3ZClG5eMqFnhlnzpxBx44d8d5778HV1RXbt2/Htm3bYGtri8LCQgCPr4B3+vRpnD9/HkePHtWegvHz88P69evx17/+FZ9//jmmT59uyFaIysVAp2fCnj17sHHjRrz55pvIzc1FmzZtoFAocOjQIVy7dk27XoMGDbQXgQsMDIS5uTkA4Nq1a1CpVAgNDcXEiRNx5swZQ7VC9FS8OBdJ6c9vW+zQoQPGjh0LJycnHDp0CO+//z7Mzc3Ro0cPnDlzBjNnzoSbmxuAx9fd79+/P77//nu0a9cOALBixQps374dDRo0gEKhQHR0NPr372/ADonKYqAT/cm2bduwc+fOMt8mQ2Ts+KIo0R+MHj0a169fx2effWboUoiqjUfoRESS4IuiRESSYKATEUmCgU5EJAkGOhGRJBjoRESS+H8jNTDtBcIUzQAAAABJRU5ErkJggg==\n",
      "text/plain": [
       "<Figure size 432x288 with 1 Axes>"
      ]
     },
     "metadata": {},
     "output_type": "display_data"
    }
   ],
=======
   "execution_count": null,
   "metadata": {
    "collapsed": true
   },
   "outputs": [],
>>>>>>> 34ac74dfbcce211a316047e0fec5325757b63c46
   "source": [
    "issueTimes = computeResponseTimes(repo_data['issues']['edges'])\n",
    "openedIssues = repo_data['issues']['totalCount']\n",
    "sns.set()\n",
    "plt.hist(issueTimes, color = 'red')\n",
    "\n",
    "titleStr=('Issue Time to Close: (' + str(openedIssues) + ' opened, ' + str(len(issueTimes)) + ' closed)')\n",
    "axes = plt.gca()\n",
    "axes.set(ylabel=\"\",xlabel=\"Days\")\n",
    "plt.title(titleStr)\n",
    "axes.yaxis.set_major_locator(MaxNLocator(integer=True))"
   ]
  },
  {
   "cell_type": "code",
   "execution_count": null,
   "metadata": {
    "collapsed": true,
    "extensions": {
     "jupyter_dashboards": {
      "version": 1,
      "views": {
       "grid_default": {
        "hidden": true
       },
       "report_default": {
        "hidden": true
       }
      }
     }
    }
   },
   "outputs": [],
   "source": [
    "import dash\n",
    "import dash_core_components as dcc\n",
    "import dash_html_components as html\n",
    "import plotly.graph_objs as go\n",
    "import pandas as pd\n",
    "from dash.dependencies import Input, Output"
   ]
  },
  {
   "cell_type": "code",
   "execution_count": null,
   "metadata": {
    "collapsed": true,
    "extensions": {
     "jupyter_dashboards": {
      "version": 1,
      "views": {
       "grid_default": {
        "hidden": true
       },
       "report_default": {
        "hidden": true
       }
      }
     }
    }
   },
   "outputs": [],
   "source": [
    "app = dash.Dash()\n",
    "\n",
    "#app.layout = html.Div([\n",
    "#    html.Div()\n",
    "#    dcc.Input(id='owner-id', value='Enter owner name', type='text'),\n",
    "#    dcc.Input(id='repo-id', value='Enter repo name', type='text'),\n",
    "#    dcc.Input(id='token-id', value='Enter Github API token', type='text'),\n",
    "#    html.Div(id='input-div')\n",
    "#])\n",
    "repo_name = ''\n",
    "user_name = ''\n",
    "\n",
    "app.layout = html.Div([\n",
    "    html.Div([\n",
    "\n",
    "        html.Div([\n",
    "            dcc.Input(id='owner-id', value='Enter Github user name', type='text'),\n",
    "            dcc.Dropdown(\n",
    "                id='repolist-dropdown'\n",
    "            )\n",
    "        ],\n",
    "        style={'width': '48%', 'display': 'inline-block'}),\n",
    "    ]),\n",
    "\n",
    "    dcc.Graph(id='sentiment-graphic')\n",
    "])\n",
    "\n",
    "@app.callback(\n",
    "    dash.dependencies.Output('repolist-dropdown', 'options'),\n",
    "    [dash.dependencies.Input('owner-id', 'value')])\n",
    "def update_repo_dropdown(owner_name):\n",
    "    user_name = owner_name\n",
    "    repos = acquireOwnerRepos(owner_name, '5b151dd275afed8d9e51f4fb063b4aa36305c346')\n",
    "    return[{'label': i, 'value': i} for i in repos]\n",
    "\n",
    "@app.callback(\n",
    "    dash.dependencies.Output('sentiment-graphic', 'figure'),\n",
    "    [dash.dependencies.Input('repolist-dropdown', 'value')])\n",
    "def update_sentiment_graph(repo_selected):\n",
    "    repo_name = repo_selected\n",
    "    print('username: ' + user_name)\n",
    "    print(' reponame: ' + repo_name)\n",
    "    repo_data = acquireRepoData('eldritchjs', 'equoid-data-handler', 'Insert Token Here')\n",
    "    sentiments = computeVaderSentiment(repo_data)\n",
    "    indices = ('Neg', 'Neu', 'Pos')\n",
    "    return {\n",
    "        'data': [go.Bar(\n",
    "            x=indices,\n",
    "            y=sentiments\n",
    "        )],\n",
    "        'layout': go.Layout(\n",
    "            xaxis={\n",
    "                'title': 'PR Comment Sentiment for ',\n",
    "                'type': 'linear'\n",
    "            },\n",
    "            yaxis={\n",
    "                'title': 'Percentage',\n",
    "                'type': 'linear'\n",
    "            }\n",
    "        )\n",
    "    }\n",
    "\n",
    "app.run_server(debug=False)\n"
   ]
  },
  {
   "cell_type": "code",
   "execution_count": null,
   "metadata": {
    "collapsed": true,
    "extensions": {
     "jupyter_dashboards": {
      "version": 1,
      "views": {
       "grid_default": {
        "hidden": true
       },
       "report_default": {
        "hidden": true
       }
      }
     }
    }
   },
   "outputs": [],
   "source": [
    "from IPython import display\n",
    "def show_app(app,  # type: dash.Dash\n",
    "             port=8051,\n",
    "             width=960,\n",
    "             height=720,\n",
    "             offline=True,\n",
    "             style=True,\n",
    "             **dash_flask_kwargs):\n",
    "    \"\"\"\n",
    "    Run the application inside a Jupyter notebook and show an iframe with it\n",
    "    :param app:\n",
    "    :param port:\n",
    "    :param width:\n",
    "    :param height:\n",
    "    :param offline:\n",
    "    :return:\n",
    "    \"\"\"\n",
    "    url = 'http://localhost:%d' % port\n",
    "    iframe = '<iframe src=\"{url}\" width={width} height={height}></iframe>'.format(url=url,\n",
    "                                                                                  width=width,\n",
    "                                                                                  height=height)\n",
    "    display.display_html(iframe, raw=True)\n",
    "    if offline:\n",
    "        app.css.config.serve_locally = True\n",
    "        app.scripts.config.serve_locally = True\n",
    "    if style:\n",
    "        external_css = [\"https://fonts.googleapis.com/css?family=Raleway:400,300,600\",\n",
    "                        \"https://maxcdn.bootstrapcdn.com/font-awesome/4.7.0/css/font-awesome.min.css\",\n",
    "                        \"http://getbootstrap.com/dist/css/bootstrap.min.css\", ]\n",
    "\n",
    "        for css in external_css:\n",
    "            app.css.append_css({\"external_url\": css})\n",
    "\n",
    "        external_js = [\"https://code.jquery.com/jquery-3.2.1.min.js\",\n",
    "                       \"https://cdn.rawgit.com/plotly/dash-app-stylesheets/a3401de132a6d0b652ba11548736b1d1e80aa10d/dash-goldman-sachs-report-js.js\",\n",
    "                       \"http://getbootstrap.com/dist/js/bootstrap.min.js\"]\n",
    "\n",
    "        for js in external_js:\n",
    "            app.scripts.append_script({\"external_url\": js})\n",
    "\n",
    "    return app.run_server(debug=False,  # needs to be false in Jupyter\n",
    "                          port=port,\n",
    "                          **dash_flask_kwargs)"
   ]
  },
  {
   "cell_type": "code",
   "execution_count": null,
   "metadata": {
    "collapsed": true,
    "extensions": {
     "jupyter_dashboards": {
      "version": 1,
      "views": {
       "grid_default": {
        "hidden": true
       },
       "report_default": {
        "hidden": true
       }
      }
     }
    }
   },
   "outputs": [],
   "source": [
    "show_app(app)"
   ]
  },
  {
   "cell_type": "code",
   "execution_count": null,
   "metadata": {
    "collapsed": true,
    "extensions": {
     "jupyter_dashboards": {
      "version": 1,
      "views": {
       "grid_default": {
        "hidden": true
       },
       "report_default": {
        "hidden": true
       }
      }
     }
    }
   },
   "outputs": [],
   "source": []
  }
 ],
 "metadata": {
  "extensions": {
   "jupyter_dashboards": {
    "activeView": "report_default",
    "version": 1,
    "views": {
     "grid_default": {
      "cellMargin": 10,
      "defaultCellHeight": 20,
      "maxColumns": 12,
      "name": "grid",
      "type": "grid"
     },
     "report_default": {
      "name": "report",
      "type": "report"
     }
    }
   }
  },
  "kernelspec": {
   "display_name": "Python 3",
   "language": "python",
   "name": "python3"
  },
  "language_info": {
   "codemirror_mode": {
    "name": "ipython",
    "version": 3
   },
   "file_extension": ".py",
   "mimetype": "text/x-python",
   "name": "python",
   "nbconvert_exporter": "python",
   "pygments_lexer": "ipython3",
   "version": "3.6.5"
  }
 },
 "nbformat": 4,
 "nbformat_minor": 2
}
