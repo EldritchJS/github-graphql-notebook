{
 "cells": [
  {
   "cell_type": "markdown",
   "metadata": {
    "extensions": {
     "jupyter_dashboards": {
      "version": 1,
      "views": {
       "grid_default": {
        "col": 0,
        "height": 4,
        "hidden": false,
        "row": 0,
        "width": 4
       },
       "report_default": {}
      }
     }
    }
   },
   "source": [
    "## Github Repo Metrics Using GraphQL API ##"
   ]
  },
  {
   "cell_type": "markdown",
   "metadata": {
    "extensions": {
     "jupyter_dashboards": {
      "version": 1,
      "views": {
       "grid_default": {
        "col": 0,
        "height": 4,
        "hidden": false,
        "row": 4,
        "width": 12
       },
       "report_default": {}
      }
     }
    }
   },
   "source": [
    "text-processing.com provides a Sentiment Analysis API which has commercial licensing. \n",
    "\n",
    "It checks for neutrality first, ends if so, otherwise checks pos/neg\n",
    "\n",
    "Vader is built on NLTK, open source, and worked previously for kono."
   ]
  },
  {
   "cell_type": "code",
   "execution_count": 3,
   "metadata": {
    "extensions": {
     "jupyter_dashboards": {
      "version": 1,
      "views": {
       "grid_default": {
        "hidden": true
       },
       "report_default": {}
      }
     }
    }
   },
   "outputs": [],
   "source": [
    "import requests\n",
    "import json\n",
    "from vaderSentiment.vaderSentiment import SentimentIntensityAnalyzer\n",
    "import pandas as pd\n",
    "from string import Template\n",
    "\n",
    "endpointSentAPI = 'http://text-processing.com/api/sentiment/'\n",
    "endpointGitHub = 'https://api.github.com/graphql'\n",
    "headersGitHub = {'Authorization': '<ADD YOUR TOKEN HERE>'}\n",
    "\n",
    "def getSentimentAPI(phrase):\n",
    "    r = requests.post(endpointSentAPI, {\"text\": phrase})\n",
    "    return r.json()\n"
   ]
  },
  {
   "cell_type": "code",
   "execution_count": 4,
   "metadata": {
    "extensions": {
     "jupyter_dashboards": {
      "version": 1,
      "views": {
       "grid_default": {
        "hidden": true
       },
       "report_default": {}
      }
     }
    }
   },
   "outputs": [],
   "source": [
    "analyzer = SentimentIntensityAnalyzer()\n",
    "\n",
    "repoQuery = Template(''' \n",
    "{ \n",
    "    repository(owner: \\\"$owner\\\", name: \\\"$repo\\\") { \n",
    "        forkCount\n",
    "        watchers(first: 10) {\n",
    "            totalCount\n",
    "        }\n",
    "        stargazers(first: 10) {\n",
    "            totalCount\n",
    "        }\n",
    "        \n",
    "        commitComments(first: 10) {\n",
    "            edges {\n",
    "                node {\n",
    "                    bodyText\n",
    "                    reactions(first: 10) {\n",
    "                        edges {\n",
    "                            node {\n",
    "                                content\n",
    "                            }\n",
    "                        }\n",
    "                    }\n",
    "                }\n",
    "            }\n",
    "        }\n",
    "        pullRequests(first: 10) { \n",
    "            totalCount\n",
    "            edges { \n",
    "                node { \n",
    "                    createdAt\n",
    "                    closedAt\n",
    "                    closed\n",
    "                    merged\n",
    "                    mergedAt\n",
    "                    comments(first: 10) {\n",
    "                        edges {\n",
    "                            node {\n",
    "                                bodyText\n",
    "                            }\n",
    "                        }\n",
    "                    } \n",
    "                } \n",
    "            } \n",
    "        } \n",
    "        issues(first: 10) {\n",
    "            totalCount\n",
    "            edges {\n",
    "                node {\n",
    "                    createdAt\n",
    "                    closedAt\n",
    "                    closed\n",
    "                }\n",
    "            }\n",
    "        }\n",
    "    }\n",
    "}\n",
    "''')\n",
    "\n",
    "\n"
   ]
  },
  {
   "cell_type": "code",
   "execution_count": 5,
   "metadata": {
    "extensions": {
     "jupyter_dashboards": {
      "version": 1,
      "views": {
       "grid_default": {
        "hidden": true
       },
       "report_default": {}
      }
     }
    }
   },
   "outputs": [],
   "source": [
    "def acquireRepoData(ownerName, repoName, token):\n",
    "    headersGitHub = {'Authorization': 'bearer ' + token}\n",
    "    \n",
    "    query = repoQuery.substitute(owner=ownerName,repo=repoName)\n",
    "    r = requests.post(endpointGitHub, json.dumps({\"query\": query}), headers=headersGitHub)\n",
    "    data = r.json()['data']['repository']\n",
    "    repo = data['pullRequests']['edges']\n",
    "\n",
    "    for node in repo:\n",
    "        edges = node['node']['comments']['edges']\n",
    "        if len(edges) != 0:\n",
    "            vaderNeg = 0\n",
    "            vaderPos = 0\n",
    "            vaderNeu = 0\n",
    "            tpcNeg = 0\n",
    "            tpcPos = 0\n",
    "            tpcNeu = 0\n",
    "            numMessages = 0\n",
    "            for cnode in edges:\n",
    "                phrase = cnode['node']['bodyText']\n",
    "                numMessages+=1\n",
    "                vaderScores = analyzer.polarity_scores(phrase)\n",
    "                tpcScores = getSentimentAPI(phrase)\n",
    "\n",
    "                tpcNeg += tpcScores['probability']['neg']\n",
    "                tpcPos += tpcScores['probability']['pos']\n",
    "                tpcNeu += tpcScores['probability']['neutral']\n",
    "                vaderNeg += vaderScores['neg']\n",
    "                vaderPos += vaderScores['pos']\n",
    "                vaderNeu += vaderScores['neu']\n",
    "            \n",
    "            if(numMessages > 0):\n",
    "                vaderNeg/=numMessages\n",
    "                vaderPos/=numMessages\n",
    "                vaderNeu/=numMessages\n",
    "                vaderTotal = vaderNeg + vaderPos + vaderNeu\n",
    "                vaderNeg = vaderNeg*100/vaderTotal\n",
    "                vaderNeu = vaderNeu*100/vaderTotal\n",
    "                vaderPos = vaderPos*100/vaderTotal\n",
    "            \n",
    "                tpcNeg/=numMessages\n",
    "                tpcPos/=numMessages\n",
    "                tpcNeu/=numMessages\n",
    "                tpcTotal = tpcNeg + tpcPos + tpcNeu\n",
    "                tpcNeg = tpcNeg*100/tpcTotal\n",
    "                tpcNeu = tpcNeu*100/tpcTotal\n",
    "                tpcPos = tpcPos*100/tpcTotal\n",
    "\n",
    "                vaderNegStr = \"%8.2f\" % vaderNeg\n",
    "                vaderPosStr = \"%8.2f\" % vaderPos\n",
    "                vaderNeuStr = \"%8.2f\" % vaderNeu\n",
    "            \n",
    "                tpcNegStr = \"%8.2f\" % tpcNeg\n",
    "                tpcPosStr = \"%8.2f\" % tpcPos\n",
    "                tpcNeuStr = \"%8.2f\" % tpcNeu\n",
    "            \n",
    "                print('Vader - Negative: ' + vaderNegStr + ' Neutral: ' + vaderNeuStr + ' Positive: ' + vaderPosStr)\n",
    "                print('T-p.c - Negative: ' + tpcNegStr + ' Neutral: ' + tpcNeuStr + ' Positive: ' + tpcPosStr)"
   ]
  },
  {
   "cell_type": "code",
   "execution_count": 7,
   "metadata": {
    "extensions": {
     "jupyter_dashboards": {
      "version": 1,
      "views": {
       "grid_default": {
        "col": 0,
        "height": 12,
        "hidden": false,
        "row": 8,
        "width": 4
       },
       "report_default": {}
      }
     }
    }
   },
   "outputs": [
    {
     "data": {
      "application/vnd.jupyter.widget-view+json": {
       "model_id": "aa5c24c28e1c41b7bea4a8b9e5ba3a4b",
       "version_major": 2,
       "version_minor": 0
      },
      "text/html": [
       "<p>Failed to display Jupyter Widget of type <code>Text</code>.</p>\n",
       "<p>\n",
       "  If you're reading this message in the Jupyter Notebook or JupyterLab Notebook, it may mean\n",
       "  that the widgets JavaScript is still loading. If this message persists, it\n",
       "  likely means that the widgets JavaScript library is either not installed or\n",
       "  not enabled. See the <a href=\"https://ipywidgets.readthedocs.io/en/stable/user_install.html\">Jupyter\n",
       "  Widgets Documentation</a> for setup instructions.\n",
       "</p>\n",
       "<p>\n",
       "  If you're reading this message in another frontend (for example, a static\n",
       "  rendering on GitHub or <a href=\"https://nbviewer.jupyter.org/\">NBViewer</a>),\n",
       "  it may mean that your frontend doesn't currently support widgets.\n",
       "</p>\n"
      ],
      "text/plain": [
       "Text(value='Enter owner name')"
      ]
     },
     "metadata": {},
     "output_type": "display_data"
    },
    {
     "data": {
      "application/vnd.jupyter.widget-view+json": {
       "model_id": "5038cce9ac314ad7a7f778d460682451",
       "version_major": 2,
       "version_minor": 0
      },
      "text/html": [
       "<p>Failed to display Jupyter Widget of type <code>Text</code>.</p>\n",
       "<p>\n",
       "  If you're reading this message in the Jupyter Notebook or JupyterLab Notebook, it may mean\n",
       "  that the widgets JavaScript is still loading. If this message persists, it\n",
       "  likely means that the widgets JavaScript library is either not installed or\n",
       "  not enabled. See the <a href=\"https://ipywidgets.readthedocs.io/en/stable/user_install.html\">Jupyter\n",
       "  Widgets Documentation</a> for setup instructions.\n",
       "</p>\n",
       "<p>\n",
       "  If you're reading this message in another frontend (for example, a static\n",
       "  rendering on GitHub or <a href=\"https://nbviewer.jupyter.org/\">NBViewer</a>),\n",
       "  it may mean that your frontend doesn't currently support widgets.\n",
       "</p>\n"
      ],
      "text/plain": [
       "Text(value='Enter repo name')"
      ]
     },
     "metadata": {},
     "output_type": "display_data"
    },
    {
     "data": {
      "application/vnd.jupyter.widget-view+json": {
       "model_id": "3f045b9da1a949b8a4f3c8147ca2e039",
       "version_major": 2,
       "version_minor": 0
      },
      "text/html": [
       "<p>Failed to display Jupyter Widget of type <code>Text</code>.</p>\n",
       "<p>\n",
       "  If you're reading this message in the Jupyter Notebook or JupyterLab Notebook, it may mean\n",
       "  that the widgets JavaScript is still loading. If this message persists, it\n",
       "  likely means that the widgets JavaScript library is either not installed or\n",
       "  not enabled. See the <a href=\"https://ipywidgets.readthedocs.io/en/stable/user_install.html\">Jupyter\n",
       "  Widgets Documentation</a> for setup instructions.\n",
       "</p>\n",
       "<p>\n",
       "  If you're reading this message in another frontend (for example, a static\n",
       "  rendering on GitHub or <a href=\"https://nbviewer.jupyter.org/\">NBViewer</a>),\n",
       "  it may mean that your frontend doesn't currently support widgets.\n",
       "</p>\n"
      ],
      "text/plain": [
       "Text(value='Insert Token')"
      ]
     },
     "metadata": {},
     "output_type": "display_data"
    },
    {
     "data": {
      "application/vnd.jupyter.widget-view+json": {
       "model_id": "f38450fd49b448c8b4b4add9531803cd",
       "version_major": 2,
       "version_minor": 0
      },
      "text/html": [
       "<p>Failed to display Jupyter Widget of type <code>Button</code>.</p>\n",
       "<p>\n",
       "  If you're reading this message in the Jupyter Notebook or JupyterLab Notebook, it may mean\n",
       "  that the widgets JavaScript is still loading. If this message persists, it\n",
       "  likely means that the widgets JavaScript library is either not installed or\n",
       "  not enabled. See the <a href=\"https://ipywidgets.readthedocs.io/en/stable/user_install.html\">Jupyter\n",
       "  Widgets Documentation</a> for setup instructions.\n",
       "</p>\n",
       "<p>\n",
       "  If you're reading this message in another frontend (for example, a static\n",
       "  rendering on GitHub or <a href=\"https://nbviewer.jupyter.org/\">NBViewer</a>),\n",
       "  it may mean that your frontend doesn't currently support widgets.\n",
       "</p>\n"
      ],
      "text/plain": [
       "Button(description='Start', style=ButtonStyle())"
      ]
     },
     "metadata": {},
     "output_type": "display_data"
    }
   ],
   "source": [
    "import ipywidgets as widgets\n",
    "ownerVal = 'Enter owner name'\n",
    "repoVal = 'Enter repo name'\n",
    "tokenVal = 'Insert Token'\n",
    "\n",
    "ownerW = widgets.Text(value=ownerVal)\n",
    "repoW = widgets.Text(value=repoVal)\n",
    "tokenW = widgets.Text(value=tokenVal)\n",
    "startB = widgets.Button(description='Start')\n",
    "display(ownerW, repoW, tokenW, startB)\n",
    "\n",
    "\n",
    "def on_button_clicked(b):\n",
    "    ownerVal = ownerW.value\n",
    "    repoVal = repoW.value\n",
    "    tokenVal = tokenW.value\n",
    "    if (ownerVal != '' and repoVal != '' and tokenVal != ''):\n",
    "        acquireRepoData(ownerVal, repoVal, tokenVal)\n",
    "    \n",
    "startB.on_click(on_button_clicked)"
   ]
  },
  {
   "cell_type": "code",
   "execution_count": null,
   "metadata": {
    "extensions": {
     "jupyter_dashboards": {
      "version": 1,
      "views": {
       "grid_default": {
        "col": 4,
        "height": 13,
        "hidden": false,
        "row": 8,
        "width": 4
       },
       "report_default": {}
      }
     }
    }
   },
   "outputs": [],
   "source": []
  },
  {
   "cell_type": "code",
   "execution_count": null,
   "metadata": {
    "extensions": {
     "jupyter_dashboards": {
      "version": 1,
      "views": {
       "grid_default": {
        "hidden": true
       },
       "report_default": {}
      }
     }
    }
   },
   "outputs": [],
   "source": []
  }
 ],
 "metadata": {
  "extensions": {
   "jupyter_dashboards": {
    "activeView": "grid_default",
    "version": 1,
    "views": {
     "grid_default": {
      "cellMargin": 10,
      "defaultCellHeight": 20,
      "maxColumns": 12,
      "name": "grid",
      "type": "grid"
     },
     "report_default": {
      "name": "report",
      "type": "report"
     }
    }
   }
  },
  "kernelspec": {
   "display_name": "Python 3",
   "language": "python",
   "name": "python3"
  },
  "language_info": {
   "codemirror_mode": {
    "name": "ipython",
    "version": 3
   },
   "file_extension": ".py",
   "mimetype": "text/x-python",
   "name": "python",
   "nbconvert_exporter": "python",
   "pygments_lexer": "ipython3",
   "version": "3.6.5"
  }
 },
 "nbformat": 4,
 "nbformat_minor": 2
}
