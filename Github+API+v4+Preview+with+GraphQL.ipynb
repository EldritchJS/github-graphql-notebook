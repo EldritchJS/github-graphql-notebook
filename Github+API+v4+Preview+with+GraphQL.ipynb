{
 "cells": [
  {
   "cell_type": "markdown",
   "metadata": {},
   "source": [
    "**Github API v4 preview using GraphQL**\n",
    "\n",
    "Github's API is moving (slowly) over to GraphQL in place of their REST API. Given my prior exploratory analysis of Github's data [found here](https://github.com/EldritchJS/kono-notebook/blob/master/kono.ipynb) I set out to see what moving to the new API buys me, or loses me, as it were. Here's a few things that stand out:\n",
    "\n",
    "1) Single Endpoint  \n",
    "\n",
    "2) Query-driven syntax\n",
    "\n",
    "The single endpoint trades looking up endpoint formats and return values for looking up query field and connector values. IMHO the latter is more advantageous, as endpoint syntax and formatting can get unruly in a hurry. Having a single endpoint lets data scientists focus on their queries, staying relegated to JSON. The queries follow (mostly) intuitive graph pattern wherein one traverses the docs/graphs until reaching the desired node(s).\n",
    "\n",
    "    \n",
    "In terms of connections, to get started, one need only generate a personal access token on Github's site. \n",
    "\n",
    "Programmitically, one needs the requests and json Python libraries imported, per the following. Additionally, the single endpoint is defined along with my Github authorization token (which is a whole bunch of Xs for what's in the repo, go get your own token please)"
   ]
  },
  {
   "cell_type": "code",
   "execution_count": null,
   "metadata": {
    "collapsed": true
   },
   "outputs": [],
   "source": [
    "import requests\n",
    "import json\n",
    "\n",
    "endpoint = 'https://api.github.com/graphql'\n",
    "headers = {'Authorization': 'bearer PUTYOUROWNTOKENHERE'}\n"
   ]
  },
  {
   "cell_type": "markdown",
   "metadata": {},
   "source": [
    "I'll start with a call to get the members of my team's Github organization. Note: there's a rate limiting factor of 100 for the number of members to returned. One can either get the first or last 100. Pagination is provided for larger groups. Also of interest: our mascot's account is spelled Radly, as opposed to Radley or Radlee."
   ]
  },
  {
   "cell_type": "code",
   "execution_count": 117,
   "metadata": {
    "collapsed": true
   },
   "outputs": [],
   "source": [
    "query = ''' \\\n",
    "{ \\\n",
    "    organization(login: \\\"radanalyticsio\\\") { \\\n",
    "    members(first: 100) { \\\n",
    "      edges { \\\n",
    "        node { \\\n",
    "          name \\\n",
    "          avatarUrl \\\n",
    "        } \\\n",
    "      } \\\n",
    "    } \\\n",
    "  } \\\n",
    "} \\\n",
    "'''"
   ]
  },
  {
   "cell_type": "code",
   "execution_count": null,
   "metadata": {
    "collapsed": true
   },
   "outputs": [],
   "source": [
    "r = requests.post(endpoint, json.dumps({\"query\": query}), headers=headers)\n",
    "print(json.dumps(r.json(), indent=4, sort_keys=True))"
   ]
  },
  {
   "cell_type": "markdown",
   "metadata": {},
   "source": [
    "Next I can do a simple query of the first 100 repositories I own, listing the repo's name, disk usage, and number of forks."
   ]
  },
  {
   "cell_type": "code",
   "execution_count": null,
   "metadata": {},
   "outputs": [],
   "source": [
    "query=''' \\\n",
    "{ \\\n",
    "repositoryOwner(login : \\\"EldritchJS\\\") \\\n",
    "    {login repositories (first : 100) \\\n",
    "        {edges {node {name, diskUsage, forkCount }}} \\\n",
    "    } \\\n",
    "} \\\n",
    "'''"
   ]
  },
  {
   "cell_type": "code",
   "execution_count": null,
   "metadata": {},
   "outputs": [],
   "source": [
    "r = requests.post(endpoint, json.dumps({\"query\": query}), headers=headers)\n",
    "print(json.dumps(r.json(), indent=4, sort_keys=True))"
   ]
  },
  {
   "cell_type": "markdown",
   "metadata": {},
   "source": [
    "Here's a call to get the members of our organization. Note: there's a rate limiting factor of 100 for the number of members to returned. One can either get the first or last 100. Pagination is provided for larger groups. Also of interest: our mascot's account is spelled Radly, as opposed to Radley or Radlee."
   ]
  },
  {
   "cell_type": "markdown",
   "metadata": {},
   "source": [
    "Once I have a repository I'm interested in, I can acquire data pertaining to said repository. In the next example I get a list of names of users who have starred the equoid-openshift repo, those who are watching the repo, and the number of issues. All fields of interest in my previous work on repository health metrics. "
   ]
  },
  {
   "cell_type": "code",
   "execution_count": 120,
   "metadata": {
    "collapsed": true
   },
   "outputs": [],
   "source": [
    "query = ''' \\\n",
    "{ \\\n",
    "    repository(owner: \\\"EldritchJS\\\", name: \\\"equoid-openshift\\\") { \\\n",
    "    stargazers(first: 100) { \\\n",
    "        edges { \\\n",
    "            node { \\\n",
    "                name \\\n",
    "            } \\\n",
    "        } \\\n",
    "    } \\\n",
    "    watchers(first : 100) { \\\n",
    "        edges { \\\n",
    "            node { \\\n",
    "                name \\\n",
    "                } \\\n",
    "            } \\\n",
    "        } \\\n",
    "    issues( first: 100) { \\\n",
    "        edges { \\\n",
    "            node { \\\n",
    "                comments( first: 100) { \\\n",
    "                    edges { \\\n",
    "                        node { \\\n",
    "                        body \\\n",
    "                        } \\\n",
    "                    } \\\n",
    "                }\\\n",
    "                } \\\n",
    "            } \\\n",
    "        } \\\n",
    "    } \\\n",
    "} \\\n",
    "'''"
   ]
  },
  {
   "cell_type": "code",
   "execution_count": 121,
   "metadata": {},
   "outputs": [
    {
     "name": "stdout",
     "output_type": "stream",
     "text": [
      "{\n",
      "    \"data\": {\n",
      "        \"repository\": {\n",
      "            \"issues\": {\n",
      "                \"edges\": []\n",
      "            }, \n",
      "            \"stargazers\": {\n",
      "                \"edges\": [\n",
      "                    {\n",
      "                        \"node\": {\n",
      "                            \"name\": \"Jirka Kremser\"\n",
      "                        }\n",
      "                    }\n",
      "                ]\n",
      "            }, \n",
      "            \"watchers\": {\n",
      "                \"edges\": []\n",
      "            }\n",
      "        }\n",
      "    }\n",
      "}\n"
     ]
    }
   ],
   "source": [
    "r = requests.post(endpoint, json.dumps({\"query\": query}), headers=headers)\n",
    "print(json.dumps(r.json(), indent=4, sort_keys=True))"
   ]
  },
  {
   "cell_type": "code",
   "execution_count": null,
   "metadata": {
    "collapsed": true
   },
   "outputs": [],
   "source": []
  }
 ],
 "metadata": {
  "kernelspec": {
   "display_name": "Python with Pixiedust (Spark 2.2)",
   "language": "python",
   "name": "pythonwithpixiedustspark22"
  },
  "language_info": {
   "codemirror_mode": {
    "name": "ipython",
    "version": 3
   },
   "file_extension": ".py",
   "mimetype": "text/x-python",
   "name": "python",
   "nbconvert_exporter": "python",
   "pygments_lexer": "ipython3",
   "version": "3.6.4"
  }
 },
 "nbformat": 4,
 "nbformat_minor": 2
}
